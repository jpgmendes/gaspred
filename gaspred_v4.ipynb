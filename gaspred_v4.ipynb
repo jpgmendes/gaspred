{
 "cells": [
  {
   "cell_type": "markdown",
   "metadata": {},
   "source": [
    "# Gaspred v1.0\n",
    "\n",
    "## First version of the project to predict gasoline prices in Brazil."
   ]
  },
  {
   "cell_type": "code",
   "execution_count": 1,
   "metadata": {},
   "outputs": [],
   "source": [
    "import pandas as pd\n",
    "import numpy as np\n",
    "import matplotlib.pyplot as plt\n",
    "from dateutil.relativedelta import relativedelta\n",
    "from sklearn.ensemble import RandomForestRegressor\n",
    "from sklearn.model_selection import train_test_split\n",
    "from sklearn.metrics import mean_squared_error"
   ]
  },
  {
   "cell_type": "markdown",
   "metadata": {},
   "source": [
    "### Getting data from Jan, 2017 to Dec, 2020. \n",
    "### Data Loading..."
   ]
  },
  {
   "cell_type": "code",
   "execution_count": 2,
   "metadata": {},
   "outputs": [],
   "source": [
    "# These are the datasets where we find gas prices in brazilian gas stations from 2017 to 2020.\n",
    "# Data are inputed per semester, but the granurality inside is per day.\n",
    "\n",
    "df1 = pd.read_csv('2017-1-ca.csv', sep='\\t', encoding='utf-16', decimal=',')\n",
    "df2 = pd.read_csv('2017-2-ca.csv', sep='\\t', encoding='utf-16', decimal=',')\n",
    "df3 = pd.read_csv('2018-1-ca.csv', sep='\\t', encoding='utf-16', decimal=',')\n",
    "df4 = pd.read_csv('2018-2-ca.csv', sep='\\t', encoding='utf-16', decimal=',')\n",
    "df5 = pd.read_csv('2019-1-ca.csv', sep='\\t', encoding='utf-16', decimal=',')\n",
    "df6 = pd.read_csv('2019-2-ca.csv', sep=';', encoding='latin1', decimal=',')\n",
    "df7 = pd.read_csv('2020-1-ca.csv', sep=';', encoding='latin1', decimal=',')\n",
    "df8 = pd.read_csv('2020-2-ca.csv', sep=';', encoding='latin1', decimal=',')\n",
    "\n",
    "# These are the datasets where we find the prices of:\n",
    "# WTI Crude Oil (Oil future prices)\n",
    "# Dollar (USD/BRL)\n",
    "# Ethanol (Price of ethanol traded in brazilian stock exchange \"B3\" (BM&F/Bovespa) - Internal prices)\n",
    "\n",
    "crude = pd.read_csv('crude.csv')\n",
    "dollar = pd.read_csv('dollar.csv')\n",
    "ethanol = pd.read_csv('ethanol.csv')\n",
    "\n",
    "# These are the datasets where we find importation and exportation of ethanol and oil derivatives\n",
    "\n",
    "# How much the nation spended importing anhydrous ethanol per month/year\n",
    "disp_eth_anid = pd.read_csv('dispendio_etanol_anidro.csv', sep = ';', encoding='utf-8')\n",
    "\n",
    "# How much the nation spended importing hydrous ethanol per month/year\n",
    "disp_eth_hidr = pd.read_csv('dispendio_etanol_hidratado.csv', sep = ';', encoding='utf-8')\n",
    "\n",
    "# How much the nation made exporting anhydrous ethanol per month/year\n",
    "rec_eth_anid = pd.read_csv('receita_etanol_anidro.csv', sep = ';', encoding='utf-8')\n",
    "\n",
    "# How much the nation made exporting hydrous ethanol per month/year\n",
    "rec_eth_hidr = pd.read_csv('receita_etanol_hidratado.csv', sep = ';', encoding='utf-8')\n",
    "\n",
    "# How much the nation spended importing other derivatives (we're focused in gasoline) per month/year\n",
    "disp_deriv = pd.read_csv('dispendio_derivados.csv', sep=';', encoding='utf-8')\n",
    "\n",
    "# How much the nation made exporting other derivatives (we're focused in gasoline) per month/year\n",
    "rec_deriv = pd.read_csv('receita_derivados.csv', sep=';', encoding='utf-8')"
   ]
  },
  {
   "cell_type": "markdown",
   "metadata": {},
   "source": [
    "### Checking crude, usd_brl, ethanol and gasoline prices datasets..."
   ]
  },
  {
   "cell_type": "code",
   "execution_count": 3,
   "metadata": {},
   "outputs": [
    {
     "data": {
      "text/html": [
       "<div>\n",
       "<style scoped>\n",
       "    .dataframe tbody tr th:only-of-type {\n",
       "        vertical-align: middle;\n",
       "    }\n",
       "\n",
       "    .dataframe tbody tr th {\n",
       "        vertical-align: top;\n",
       "    }\n",
       "\n",
       "    .dataframe thead th {\n",
       "        text-align: right;\n",
       "    }\n",
       "</style>\n",
       "<table border=\"1\" class=\"dataframe\">\n",
       "  <thead>\n",
       "    <tr style=\"text-align: right;\">\n",
       "      <th></th>\n",
       "      <th>Date</th>\n",
       "      <th>Price</th>\n",
       "      <th>Open</th>\n",
       "      <th>High</th>\n",
       "      <th>Low</th>\n",
       "      <th>Change %</th>\n",
       "    </tr>\n",
       "  </thead>\n",
       "  <tbody>\n",
       "    <tr>\n",
       "      <th>0</th>\n",
       "      <td>Dec 31, 2020</td>\n",
       "      <td>5.1935</td>\n",
       "      <td>5.1940</td>\n",
       "      <td>5.1940</td>\n",
       "      <td>5.1940</td>\n",
       "      <td>-0.00%</td>\n",
       "    </tr>\n",
       "    <tr>\n",
       "      <th>1</th>\n",
       "      <td>Dec 30, 2020</td>\n",
       "      <td>5.1937</td>\n",
       "      <td>5.2051</td>\n",
       "      <td>5.2361</td>\n",
       "      <td>5.1519</td>\n",
       "      <td>-0.31%</td>\n",
       "    </tr>\n",
       "  </tbody>\n",
       "</table>\n",
       "</div>"
      ],
      "text/plain": [
       "           Date   Price    Open    High     Low Change %\n",
       "0  Dec 31, 2020  5.1935  5.1940  5.1940  5.1940   -0.00%\n",
       "1  Dec 30, 2020  5.1937  5.2051  5.2361  5.1519   -0.31%"
      ]
     },
     "execution_count": 3,
     "metadata": {},
     "output_type": "execute_result"
    }
   ],
   "source": [
    "dollar.head(2)"
   ]
  },
  {
   "cell_type": "code",
   "execution_count": 4,
   "metadata": {},
   "outputs": [
    {
     "data": {
      "text/html": [
       "<div>\n",
       "<style scoped>\n",
       "    .dataframe tbody tr th:only-of-type {\n",
       "        vertical-align: middle;\n",
       "    }\n",
       "\n",
       "    .dataframe tbody tr th {\n",
       "        vertical-align: top;\n",
       "    }\n",
       "\n",
       "    .dataframe thead th {\n",
       "        text-align: right;\n",
       "    }\n",
       "</style>\n",
       "<table border=\"1\" class=\"dataframe\">\n",
       "  <thead>\n",
       "    <tr style=\"text-align: right;\">\n",
       "      <th></th>\n",
       "      <th>Date</th>\n",
       "      <th>Price</th>\n",
       "      <th>Open</th>\n",
       "      <th>High</th>\n",
       "      <th>Low</th>\n",
       "      <th>Vol.</th>\n",
       "      <th>Change %</th>\n",
       "    </tr>\n",
       "  </thead>\n",
       "  <tbody>\n",
       "    <tr>\n",
       "      <th>0</th>\n",
       "      <td>Dec 31, 2020</td>\n",
       "      <td>48.52</td>\n",
       "      <td>48.35</td>\n",
       "      <td>48.58</td>\n",
       "      <td>47.77</td>\n",
       "      <td>181.89K</td>\n",
       "      <td>0.25%</td>\n",
       "    </tr>\n",
       "    <tr>\n",
       "      <th>1</th>\n",
       "      <td>Dec 30, 2020</td>\n",
       "      <td>48.40</td>\n",
       "      <td>48.13</td>\n",
       "      <td>48.66</td>\n",
       "      <td>47.61</td>\n",
       "      <td>266.96K</td>\n",
       "      <td>0.83%</td>\n",
       "    </tr>\n",
       "  </tbody>\n",
       "</table>\n",
       "</div>"
      ],
      "text/plain": [
       "           Date  Price   Open   High    Low     Vol. Change %\n",
       "0  Dec 31, 2020  48.52  48.35  48.58  47.77  181.89K    0.25%\n",
       "1  Dec 30, 2020  48.40  48.13  48.66  47.61  266.96K    0.83%"
      ]
     },
     "execution_count": 4,
     "metadata": {},
     "output_type": "execute_result"
    }
   ],
   "source": [
    "crude.head(2)"
   ]
  },
  {
   "cell_type": "code",
   "execution_count": 5,
   "metadata": {},
   "outputs": [
    {
     "data": {
      "text/html": [
       "<div>\n",
       "<style scoped>\n",
       "    .dataframe tbody tr th:only-of-type {\n",
       "        vertical-align: middle;\n",
       "    }\n",
       "\n",
       "    .dataframe tbody tr th {\n",
       "        vertical-align: top;\n",
       "    }\n",
       "\n",
       "    .dataframe thead th {\n",
       "        text-align: right;\n",
       "    }\n",
       "</style>\n",
       "<table border=\"1\" class=\"dataframe\">\n",
       "  <thead>\n",
       "    <tr style=\"text-align: right;\">\n",
       "      <th></th>\n",
       "      <th>Date</th>\n",
       "      <th>Price</th>\n",
       "      <th>Open</th>\n",
       "      <th>High</th>\n",
       "      <th>Low</th>\n",
       "      <th>Vol.</th>\n",
       "      <th>Change %</th>\n",
       "    </tr>\n",
       "  </thead>\n",
       "  <tbody>\n",
       "    <tr>\n",
       "      <th>0</th>\n",
       "      <td>Dec 30, 2020</td>\n",
       "      <td>2,105.50</td>\n",
       "      <td>2,059.50</td>\n",
       "      <td>2,068.00</td>\n",
       "      <td>2,055.00</td>\n",
       "      <td>0.03K</td>\n",
       "      <td>0.02%</td>\n",
       "    </tr>\n",
       "    <tr>\n",
       "      <th>1</th>\n",
       "      <td>Dec 29, 2020</td>\n",
       "      <td>2,105.00</td>\n",
       "      <td>2,105.00</td>\n",
       "      <td>2,105.00</td>\n",
       "      <td>2,105.00</td>\n",
       "      <td>0.01K</td>\n",
       "      <td>0.00%</td>\n",
       "    </tr>\n",
       "  </tbody>\n",
       "</table>\n",
       "</div>"
      ],
      "text/plain": [
       "           Date     Price      Open      High       Low   Vol. Change %\n",
       "0  Dec 30, 2020  2,105.50  2,059.50  2,068.00  2,055.00  0.03K    0.02%\n",
       "1  Dec 29, 2020  2,105.00  2,105.00  2,105.00  2,105.00  0.01K    0.00%"
      ]
     },
     "execution_count": 5,
     "metadata": {},
     "output_type": "execute_result"
    }
   ],
   "source": [
    "ethanol.head(2)"
   ]
  },
  {
   "cell_type": "code",
   "execution_count": 6,
   "metadata": {},
   "outputs": [
    {
     "data": {
      "text/html": [
       "<div>\n",
       "<style scoped>\n",
       "    .dataframe tbody tr th:only-of-type {\n",
       "        vertical-align: middle;\n",
       "    }\n",
       "\n",
       "    .dataframe tbody tr th {\n",
       "        vertical-align: top;\n",
       "    }\n",
       "\n",
       "    .dataframe thead th {\n",
       "        text-align: right;\n",
       "    }\n",
       "</style>\n",
       "<table border=\"1\" class=\"dataframe\">\n",
       "  <thead>\n",
       "    <tr style=\"text-align: right;\">\n",
       "      <th></th>\n",
       "      <th>Date</th>\n",
       "      <th>Price</th>\n",
       "      <th>Open</th>\n",
       "      <th>High</th>\n",
       "      <th>Low</th>\n",
       "      <th>Vol.</th>\n",
       "      <th>Change %</th>\n",
       "    </tr>\n",
       "  </thead>\n",
       "  <tbody>\n",
       "    <tr>\n",
       "      <th>0</th>\n",
       "      <td>Dec 30, 2020</td>\n",
       "      <td>2105.5</td>\n",
       "      <td>2,059.50</td>\n",
       "      <td>2,068.00</td>\n",
       "      <td>2,055.00</td>\n",
       "      <td>0.03K</td>\n",
       "      <td>0.02%</td>\n",
       "    </tr>\n",
       "    <tr>\n",
       "      <th>1</th>\n",
       "      <td>Dec 29, 2020</td>\n",
       "      <td>2105.0</td>\n",
       "      <td>2,105.00</td>\n",
       "      <td>2,105.00</td>\n",
       "      <td>2,105.00</td>\n",
       "      <td>0.01K</td>\n",
       "      <td>0.00%</td>\n",
       "    </tr>\n",
       "  </tbody>\n",
       "</table>\n",
       "</div>"
      ],
      "text/plain": [
       "           Date   Price      Open      High       Low   Vol. Change %\n",
       "0  Dec 30, 2020  2105.5  2,059.50  2,068.00  2,055.00  0.03K    0.02%\n",
       "1  Dec 29, 2020  2105.0  2,105.00  2,105.00  2,105.00  0.01K    0.00%"
      ]
     },
     "execution_count": 6,
     "metadata": {},
     "output_type": "execute_result"
    }
   ],
   "source": [
    "# Taking off the commas in ethanol prices, changing to float and showing it again.\n",
    "\n",
    "ethanol.Price = ethanol.Price.str.replace(',', '')\n",
    "ethanol.Price = ethanol.Price.astype(float)\n",
    "ethanol.head(2)"
   ]
  },
  {
   "cell_type": "code",
   "execution_count": 7,
   "metadata": {},
   "outputs": [
    {
     "data": {
      "text/html": [
       "<div>\n",
       "<style scoped>\n",
       "    .dataframe tbody tr th:only-of-type {\n",
       "        vertical-align: middle;\n",
       "    }\n",
       "\n",
       "    .dataframe tbody tr th {\n",
       "        vertical-align: top;\n",
       "    }\n",
       "\n",
       "    .dataframe thead th {\n",
       "        text-align: right;\n",
       "    }\n",
       "</style>\n",
       "<table border=\"1\" class=\"dataframe\">\n",
       "  <thead>\n",
       "    <tr style=\"text-align: right;\">\n",
       "      <th></th>\n",
       "      <th>Região - Sigla</th>\n",
       "      <th>Estado - Sigla</th>\n",
       "      <th>Município</th>\n",
       "      <th>Revenda</th>\n",
       "      <th>CNPJ da Revenda</th>\n",
       "      <th>Produto</th>\n",
       "      <th>Data da Coleta</th>\n",
       "      <th>Valor de Venda</th>\n",
       "      <th>Valor de Compra</th>\n",
       "      <th>Unidade de Medida</th>\n",
       "      <th>Bandeira</th>\n",
       "    </tr>\n",
       "  </thead>\n",
       "  <tbody>\n",
       "    <tr>\n",
       "      <th>0</th>\n",
       "      <td>CO</td>\n",
       "      <td>DF</td>\n",
       "      <td>BRASILIA</td>\n",
       "      <td>AMORIM COMERCIO DE DERIVADOS DE PETROLEO LTDA</td>\n",
       "      <td>38043832000168</td>\n",
       "      <td>DIESEL</td>\n",
       "      <td>01/02/2017</td>\n",
       "      <td>3.279</td>\n",
       "      <td>NaN</td>\n",
       "      <td>R$ / litro</td>\n",
       "      <td>IPIRANGA</td>\n",
       "    </tr>\n",
       "    <tr>\n",
       "      <th>1</th>\n",
       "      <td>CO</td>\n",
       "      <td>DF</td>\n",
       "      <td>BRASILIA</td>\n",
       "      <td>AMORIM COMERCIO DE DERIVADOS DE PETROLEO LTDA</td>\n",
       "      <td>38043832000168</td>\n",
       "      <td>DIESEL</td>\n",
       "      <td>01/03/2017</td>\n",
       "      <td>3.389</td>\n",
       "      <td>2.9383</td>\n",
       "      <td>R$ / litro</td>\n",
       "      <td>IPIRANGA</td>\n",
       "    </tr>\n",
       "  </tbody>\n",
       "</table>\n",
       "</div>"
      ],
      "text/plain": [
       "  Região - Sigla Estado - Sigla Município  \\\n",
       "0             CO             DF  BRASILIA   \n",
       "1             CO             DF  BRASILIA   \n",
       "\n",
       "                                         Revenda  CNPJ da Revenda Produto  \\\n",
       "0  AMORIM COMERCIO DE DERIVADOS DE PETROLEO LTDA   38043832000168  DIESEL   \n",
       "1  AMORIM COMERCIO DE DERIVADOS DE PETROLEO LTDA   38043832000168  DIESEL   \n",
       "\n",
       "  Data da Coleta  Valor de Venda  Valor de Compra Unidade de Medida  Bandeira  \n",
       "0     01/02/2017           3.279              NaN        R$ / litro  IPIRANGA  \n",
       "1     01/03/2017           3.389           2.9383        R$ / litro  IPIRANGA  "
      ]
     },
     "execution_count": 7,
     "metadata": {},
     "output_type": "execute_result"
    }
   ],
   "source": [
    "df1.head(2)"
   ]
  },
  {
   "cell_type": "markdown",
   "metadata": {},
   "source": [
    "### Checking incomes and expenses datasets"
   ]
  },
  {
   "cell_type": "code",
   "execution_count": 8,
   "metadata": {},
   "outputs": [
    {
     "data": {
      "text/html": [
       "<div>\n",
       "<style scoped>\n",
       "    .dataframe tbody tr th:only-of-type {\n",
       "        vertical-align: middle;\n",
       "    }\n",
       "\n",
       "    .dataframe tbody tr th {\n",
       "        vertical-align: top;\n",
       "    }\n",
       "\n",
       "    .dataframe thead th {\n",
       "        text-align: right;\n",
       "    }\n",
       "</style>\n",
       "<table border=\"1\" class=\"dataframe\">\n",
       "  <thead>\n",
       "    <tr style=\"text-align: right;\">\n",
       "      <th></th>\n",
       "      <th>ANO</th>\n",
       "      <th>PRODUTO</th>\n",
       "      <th>MOVIMENTO COMERCIAL</th>\n",
       "      <th>UNIDADE</th>\n",
       "      <th>JAN</th>\n",
       "      <th>FEV</th>\n",
       "      <th>MAR</th>\n",
       "      <th>ABR</th>\n",
       "      <th>MAI</th>\n",
       "      <th>JUN</th>\n",
       "      <th>JUL</th>\n",
       "      <th>AGO</th>\n",
       "      <th>SET</th>\n",
       "      <th>OUT</th>\n",
       "      <th>NOV</th>\n",
       "      <th>DEZ</th>\n",
       "      <th>TOTAL</th>\n",
       "    </tr>\n",
       "  </thead>\n",
       "  <tbody>\n",
       "    <tr>\n",
       "      <th>0</th>\n",
       "      <td>2012</td>\n",
       "      <td>ETANOL ANIDRO</td>\n",
       "      <td>DISPÊNDIO COM IMPORTAÇÃO</td>\n",
       "      <td>US$ FOB</td>\n",
       "      <td>99415439</td>\n",
       "      <td>95486341</td>\n",
       "      <td>32776201.0</td>\n",
       "      <td>73275765.0</td>\n",
       "      <td>26835789.0</td>\n",
       "      <td>4425082.0</td>\n",
       "      <td>15469938.0</td>\n",
       "      <td>29035009.0</td>\n",
       "      <td>116075.0</td>\n",
       "      <td>51449.0</td>\n",
       "      <td>76628.0</td>\n",
       "      <td>36158.0</td>\n",
       "      <td>376999874</td>\n",
       "    </tr>\n",
       "    <tr>\n",
       "      <th>1</th>\n",
       "      <td>2013</td>\n",
       "      <td>ETANOL ANIDRO</td>\n",
       "      <td>DISPÊNDIO COM IMPORTAÇÃO</td>\n",
       "      <td>US$ FOB</td>\n",
       "      <td>9543617</td>\n",
       "      <td>5755180</td>\n",
       "      <td>39799468.0</td>\n",
       "      <td>9664990.0</td>\n",
       "      <td>30655.0</td>\n",
       "      <td>12060811.0</td>\n",
       "      <td>8694268.0</td>\n",
       "      <td>8532.0</td>\n",
       "      <td>47651.0</td>\n",
       "      <td>4758.0</td>\n",
       "      <td>41306.0</td>\n",
       "      <td>4552560.0</td>\n",
       "      <td>90203796</td>\n",
       "    </tr>\n",
       "  </tbody>\n",
       "</table>\n",
       "</div>"
      ],
      "text/plain": [
       "    ANO        PRODUTO       MOVIMENTO COMERCIAL  UNIDADE       JAN       FEV  \\\n",
       "0  2012  ETANOL ANIDRO  DISPÊNDIO COM IMPORTAÇÃO  US$ FOB  99415439  95486341   \n",
       "1  2013  ETANOL ANIDRO  DISPÊNDIO COM IMPORTAÇÃO  US$ FOB   9543617   5755180   \n",
       "\n",
       "          MAR         ABR         MAI         JUN         JUL         AGO  \\\n",
       "0  32776201.0  73275765.0  26835789.0   4425082.0  15469938.0  29035009.0   \n",
       "1  39799468.0   9664990.0     30655.0  12060811.0   8694268.0      8532.0   \n",
       "\n",
       "        SET      OUT      NOV        DEZ      TOTAL  \n",
       "0  116075.0  51449.0  76628.0    36158.0  376999874  \n",
       "1   47651.0   4758.0  41306.0  4552560.0   90203796  "
      ]
     },
     "execution_count": 8,
     "metadata": {},
     "output_type": "execute_result"
    }
   ],
   "source": [
    "disp_eth_anid.head(2)"
   ]
  },
  {
   "cell_type": "code",
   "execution_count": 9,
   "metadata": {},
   "outputs": [
    {
     "data": {
      "text/html": [
       "<div>\n",
       "<style scoped>\n",
       "    .dataframe tbody tr th:only-of-type {\n",
       "        vertical-align: middle;\n",
       "    }\n",
       "\n",
       "    .dataframe tbody tr th {\n",
       "        vertical-align: top;\n",
       "    }\n",
       "\n",
       "    .dataframe thead th {\n",
       "        text-align: right;\n",
       "    }\n",
       "</style>\n",
       "<table border=\"1\" class=\"dataframe\">\n",
       "  <thead>\n",
       "    <tr style=\"text-align: right;\">\n",
       "      <th></th>\n",
       "      <th>ANO</th>\n",
       "      <th>PRODUTO</th>\n",
       "      <th>MOVIMENTO COMERCIAL</th>\n",
       "      <th>UNIDADE</th>\n",
       "      <th>JAN</th>\n",
       "      <th>FEV</th>\n",
       "      <th>MAR</th>\n",
       "      <th>ABR</th>\n",
       "      <th>MAI</th>\n",
       "      <th>JUN</th>\n",
       "      <th>JUL</th>\n",
       "      <th>AGO</th>\n",
       "      <th>SET</th>\n",
       "      <th>OUT</th>\n",
       "      <th>NOV</th>\n",
       "      <th>DEZ</th>\n",
       "      <th>TOTAL</th>\n",
       "    </tr>\n",
       "  </thead>\n",
       "  <tbody>\n",
       "    <tr>\n",
       "      <th>0</th>\n",
       "      <td>2012</td>\n",
       "      <td>ETANOL HIDRATADO</td>\n",
       "      <td>DISPÊNDIO COM IMPORTAÇÃO</td>\n",
       "      <td>US$ FOB</td>\n",
       "      <td>261499</td>\n",
       "      <td>51772</td>\n",
       "      <td>281914.0</td>\n",
       "      <td>179240.0</td>\n",
       "      <td>210257.0</td>\n",
       "      <td>154329.0</td>\n",
       "      <td>47534.0</td>\n",
       "      <td>167042.0</td>\n",
       "      <td>91908.0</td>\n",
       "      <td>129953.0</td>\n",
       "      <td>175898.0</td>\n",
       "      <td>27691.0</td>\n",
       "      <td>1779037</td>\n",
       "    </tr>\n",
       "    <tr>\n",
       "      <th>1</th>\n",
       "      <td>2013</td>\n",
       "      <td>ETANOL HIDRATADO</td>\n",
       "      <td>DISPÊNDIO COM IMPORTAÇÃO</td>\n",
       "      <td>US$ FOB</td>\n",
       "      <td>197923</td>\n",
       "      <td>280186</td>\n",
       "      <td>336400.0</td>\n",
       "      <td>44494.0</td>\n",
       "      <td>46724.0</td>\n",
       "      <td>35349.0</td>\n",
       "      <td>291655.0</td>\n",
       "      <td>7034.0</td>\n",
       "      <td>126897.0</td>\n",
       "      <td>20239.0</td>\n",
       "      <td>5890.0</td>\n",
       "      <td>32738.0</td>\n",
       "      <td>1425529</td>\n",
       "    </tr>\n",
       "  </tbody>\n",
       "</table>\n",
       "</div>"
      ],
      "text/plain": [
       "    ANO           PRODUTO       MOVIMENTO COMERCIAL  UNIDADE     JAN     FEV  \\\n",
       "0  2012  ETANOL HIDRATADO  DISPÊNDIO COM IMPORTAÇÃO  US$ FOB  261499   51772   \n",
       "1  2013  ETANOL HIDRATADO  DISPÊNDIO COM IMPORTAÇÃO  US$ FOB  197923  280186   \n",
       "\n",
       "        MAR       ABR       MAI       JUN       JUL       AGO       SET  \\\n",
       "0  281914.0  179240.0  210257.0  154329.0   47534.0  167042.0   91908.0   \n",
       "1  336400.0   44494.0   46724.0   35349.0  291655.0    7034.0  126897.0   \n",
       "\n",
       "        OUT       NOV      DEZ    TOTAL  \n",
       "0  129953.0  175898.0  27691.0  1779037  \n",
       "1   20239.0    5890.0  32738.0  1425529  "
      ]
     },
     "execution_count": 9,
     "metadata": {},
     "output_type": "execute_result"
    }
   ],
   "source": [
    "disp_eth_hidr.head(2)"
   ]
  },
  {
   "cell_type": "code",
   "execution_count": 10,
   "metadata": {},
   "outputs": [
    {
     "data": {
      "text/html": [
       "<div>\n",
       "<style scoped>\n",
       "    .dataframe tbody tr th:only-of-type {\n",
       "        vertical-align: middle;\n",
       "    }\n",
       "\n",
       "    .dataframe tbody tr th {\n",
       "        vertical-align: top;\n",
       "    }\n",
       "\n",
       "    .dataframe thead th {\n",
       "        text-align: right;\n",
       "    }\n",
       "</style>\n",
       "<table border=\"1\" class=\"dataframe\">\n",
       "  <thead>\n",
       "    <tr style=\"text-align: right;\">\n",
       "      <th></th>\n",
       "      <th>ANO</th>\n",
       "      <th>PRODUTO</th>\n",
       "      <th>MOVIMENTO COMERCIAL</th>\n",
       "      <th>UNIDADE</th>\n",
       "      <th>JAN</th>\n",
       "      <th>FEV</th>\n",
       "      <th>MAR</th>\n",
       "      <th>ABR</th>\n",
       "      <th>MAI</th>\n",
       "      <th>JUN</th>\n",
       "      <th>JUL</th>\n",
       "      <th>AGO</th>\n",
       "      <th>SET</th>\n",
       "      <th>OUT</th>\n",
       "      <th>NOV</th>\n",
       "      <th>DEZ</th>\n",
       "      <th>TOTAL</th>\n",
       "    </tr>\n",
       "  </thead>\n",
       "  <tbody>\n",
       "    <tr>\n",
       "      <th>0</th>\n",
       "      <td>2012</td>\n",
       "      <td>ETANOL ANIDRO</td>\n",
       "      <td>RECEITA COM EXPORTAÇÃO</td>\n",
       "      <td>US$ FOB</td>\n",
       "      <td>38608035</td>\n",
       "      <td>36375709</td>\n",
       "      <td>37083572.0</td>\n",
       "      <td>29005781.0</td>\n",
       "      <td>84907064.0</td>\n",
       "      <td>76203056.0</td>\n",
       "      <td>235771947.0</td>\n",
       "      <td>179069921.0</td>\n",
       "      <td>197987630.0</td>\n",
       "      <td>223821597.0</td>\n",
       "      <td>139477497.0</td>\n",
       "      <td>163571473.0</td>\n",
       "      <td>1441883282</td>\n",
       "    </tr>\n",
       "    <tr>\n",
       "      <th>1</th>\n",
       "      <td>2013</td>\n",
       "      <td>ETANOL ANIDRO</td>\n",
       "      <td>RECEITA COM EXPORTAÇÃO</td>\n",
       "      <td>US$ FOB</td>\n",
       "      <td>117491306</td>\n",
       "      <td>74421816</td>\n",
       "      <td>33884514.0</td>\n",
       "      <td>62525047.0</td>\n",
       "      <td>77517534.0</td>\n",
       "      <td>125272415.0</td>\n",
       "      <td>166649965.0</td>\n",
       "      <td>256873919.0</td>\n",
       "      <td>113662886.0</td>\n",
       "      <td>109273664.0</td>\n",
       "      <td>40672512.0</td>\n",
       "      <td>16626585.0</td>\n",
       "      <td>1194872163</td>\n",
       "    </tr>\n",
       "  </tbody>\n",
       "</table>\n",
       "</div>"
      ],
      "text/plain": [
       "    ANO        PRODUTO     MOVIMENTO COMERCIAL  UNIDADE        JAN       FEV  \\\n",
       "0  2012  ETANOL ANIDRO  RECEITA COM EXPORTAÇÃO  US$ FOB   38608035  36375709   \n",
       "1  2013  ETANOL ANIDRO  RECEITA COM EXPORTAÇÃO  US$ FOB  117491306  74421816   \n",
       "\n",
       "          MAR         ABR         MAI          JUN          JUL          AGO  \\\n",
       "0  37083572.0  29005781.0  84907064.0   76203056.0  235771947.0  179069921.0   \n",
       "1  33884514.0  62525047.0  77517534.0  125272415.0  166649965.0  256873919.0   \n",
       "\n",
       "           SET          OUT          NOV          DEZ       TOTAL  \n",
       "0  197987630.0  223821597.0  139477497.0  163571473.0  1441883282  \n",
       "1  113662886.0  109273664.0   40672512.0   16626585.0  1194872163  "
      ]
     },
     "execution_count": 10,
     "metadata": {},
     "output_type": "execute_result"
    }
   ],
   "source": [
    "rec_eth_anid.head(2)"
   ]
  },
  {
   "cell_type": "code",
   "execution_count": 11,
   "metadata": {},
   "outputs": [
    {
     "data": {
      "text/html": [
       "<div>\n",
       "<style scoped>\n",
       "    .dataframe tbody tr th:only-of-type {\n",
       "        vertical-align: middle;\n",
       "    }\n",
       "\n",
       "    .dataframe tbody tr th {\n",
       "        vertical-align: top;\n",
       "    }\n",
       "\n",
       "    .dataframe thead th {\n",
       "        text-align: right;\n",
       "    }\n",
       "</style>\n",
       "<table border=\"1\" class=\"dataframe\">\n",
       "  <thead>\n",
       "    <tr style=\"text-align: right;\">\n",
       "      <th></th>\n",
       "      <th>ANO</th>\n",
       "      <th>PRODUTO</th>\n",
       "      <th>MOVIMENTO COMERCIAL</th>\n",
       "      <th>UNIDADE</th>\n",
       "      <th>JAN</th>\n",
       "      <th>FEV</th>\n",
       "      <th>MAR</th>\n",
       "      <th>ABR</th>\n",
       "      <th>MAI</th>\n",
       "      <th>JUN</th>\n",
       "      <th>JUL</th>\n",
       "      <th>AGO</th>\n",
       "      <th>SET</th>\n",
       "      <th>OUT</th>\n",
       "      <th>NOV</th>\n",
       "      <th>DEZ</th>\n",
       "      <th>TOTAL</th>\n",
       "    </tr>\n",
       "  </thead>\n",
       "  <tbody>\n",
       "    <tr>\n",
       "      <th>0</th>\n",
       "      <td>2012</td>\n",
       "      <td>ETANOL HIDRATADO</td>\n",
       "      <td>RECEITA COM EXPORTAÇÃO</td>\n",
       "      <td>US$ FOB</td>\n",
       "      <td>17802653</td>\n",
       "      <td>31865994</td>\n",
       "      <td>22724331.0</td>\n",
       "      <td>18469051.0</td>\n",
       "      <td>28326925.0</td>\n",
       "      <td>30486373.0</td>\n",
       "      <td>69010411.0</td>\n",
       "      <td>45034988.0</td>\n",
       "      <td>133183809.0</td>\n",
       "      <td>126395985.0</td>\n",
       "      <td>76932750.0</td>\n",
       "      <td>127670809.0</td>\n",
       "      <td>727904079</td>\n",
       "    </tr>\n",
       "    <tr>\n",
       "      <th>1</th>\n",
       "      <td>2013</td>\n",
       "      <td>ETANOL HIDRATADO</td>\n",
       "      <td>RECEITA COM EXPORTAÇÃO</td>\n",
       "      <td>US$ FOB</td>\n",
       "      <td>112792476</td>\n",
       "      <td>62372945</td>\n",
       "      <td>16905926.0</td>\n",
       "      <td>9352508.0</td>\n",
       "      <td>16418738.0</td>\n",
       "      <td>63202079.0</td>\n",
       "      <td>56802975.0</td>\n",
       "      <td>57459830.0</td>\n",
       "      <td>68594765.0</td>\n",
       "      <td>95125205.0</td>\n",
       "      <td>73170699.0</td>\n",
       "      <td>41868958.0</td>\n",
       "      <td>674067104</td>\n",
       "    </tr>\n",
       "  </tbody>\n",
       "</table>\n",
       "</div>"
      ],
      "text/plain": [
       "    ANO           PRODUTO     MOVIMENTO COMERCIAL  UNIDADE        JAN  \\\n",
       "0  2012  ETANOL HIDRATADO  RECEITA COM EXPORTAÇÃO  US$ FOB   17802653   \n",
       "1  2013  ETANOL HIDRATADO  RECEITA COM EXPORTAÇÃO  US$ FOB  112792476   \n",
       "\n",
       "        FEV         MAR         ABR         MAI         JUN         JUL  \\\n",
       "0  31865994  22724331.0  18469051.0  28326925.0  30486373.0  69010411.0   \n",
       "1  62372945  16905926.0   9352508.0  16418738.0  63202079.0  56802975.0   \n",
       "\n",
       "          AGO          SET          OUT         NOV          DEZ      TOTAL  \n",
       "0  45034988.0  133183809.0  126395985.0  76932750.0  127670809.0  727904079  \n",
       "1  57459830.0   68594765.0   95125205.0  73170699.0   41868958.0  674067104  "
      ]
     },
     "execution_count": 11,
     "metadata": {},
     "output_type": "execute_result"
    }
   ],
   "source": [
    "rec_eth_hidr.head(2)"
   ]
  },
  {
   "cell_type": "code",
   "execution_count": 12,
   "metadata": {},
   "outputs": [
    {
     "data": {
      "text/html": [
       "<div>\n",
       "<style scoped>\n",
       "    .dataframe tbody tr th:only-of-type {\n",
       "        vertical-align: middle;\n",
       "    }\n",
       "\n",
       "    .dataframe tbody tr th {\n",
       "        vertical-align: top;\n",
       "    }\n",
       "\n",
       "    .dataframe thead th {\n",
       "        text-align: right;\n",
       "    }\n",
       "</style>\n",
       "<table border=\"1\" class=\"dataframe\">\n",
       "  <thead>\n",
       "    <tr style=\"text-align: right;\">\n",
       "      <th></th>\n",
       "      <th>ANO</th>\n",
       "      <th>PRODUTO</th>\n",
       "      <th>UNIDADE</th>\n",
       "      <th>JAN</th>\n",
       "      <th>FEV</th>\n",
       "      <th>MAR</th>\n",
       "      <th>ABR</th>\n",
       "      <th>MAI</th>\n",
       "      <th>JUN</th>\n",
       "      <th>JUL</th>\n",
       "      <th>AGO</th>\n",
       "      <th>SET</th>\n",
       "      <th>OUT</th>\n",
       "      <th>NOV</th>\n",
       "      <th>DEZ</th>\n",
       "      <th>TOTAL</th>\n",
       "    </tr>\n",
       "  </thead>\n",
       "  <tbody>\n",
       "    <tr>\n",
       "      <th>0</th>\n",
       "      <td>2000</td>\n",
       "      <td>ASFALTO</td>\n",
       "      <td>US$ FOB</td>\n",
       "      <td>2250</td>\n",
       "      <td>40334.0</td>\n",
       "      <td>22737.0</td>\n",
       "      <td>111153</td>\n",
       "      <td>63576</td>\n",
       "      <td>17715.0</td>\n",
       "      <td>20955.0</td>\n",
       "      <td>30588</td>\n",
       "      <td>36752</td>\n",
       "      <td>55193.0</td>\n",
       "      <td>14551</td>\n",
       "      <td>19653.0</td>\n",
       "      <td>435457</td>\n",
       "    </tr>\n",
       "    <tr>\n",
       "      <th>1</th>\n",
       "      <td>2000</td>\n",
       "      <td>PARAFINA</td>\n",
       "      <td>US$ FOB</td>\n",
       "      <td>719978</td>\n",
       "      <td>580677.0</td>\n",
       "      <td>404257.0</td>\n",
       "      <td>511119</td>\n",
       "      <td>563615</td>\n",
       "      <td>848088.0</td>\n",
       "      <td>486333.0</td>\n",
       "      <td>778961</td>\n",
       "      <td>564835</td>\n",
       "      <td>729330.0</td>\n",
       "      <td>349109</td>\n",
       "      <td>358946.0</td>\n",
       "      <td>6895248</td>\n",
       "    </tr>\n",
       "  </tbody>\n",
       "</table>\n",
       "</div>"
      ],
      "text/plain": [
       "    ANO   PRODUTO  UNIDADE     JAN       FEV       MAR     ABR     MAI  \\\n",
       "0  2000   ASFALTO  US$ FOB    2250   40334.0   22737.0  111153   63576   \n",
       "1  2000  PARAFINA  US$ FOB  719978  580677.0  404257.0  511119  563615   \n",
       "\n",
       "        JUN       JUL     AGO     SET       OUT     NOV       DEZ    TOTAL  \n",
       "0   17715.0   20955.0   30588   36752   55193.0   14551   19653.0   435457  \n",
       "1  848088.0  486333.0  778961  564835  729330.0  349109  358946.0  6895248  "
      ]
     },
     "execution_count": 12,
     "metadata": {},
     "output_type": "execute_result"
    }
   ],
   "source": [
    "disp_deriv.head(2)"
   ]
  },
  {
   "cell_type": "code",
   "execution_count": 13,
   "metadata": {},
   "outputs": [
    {
     "data": {
      "text/html": [
       "<div>\n",
       "<style scoped>\n",
       "    .dataframe tbody tr th:only-of-type {\n",
       "        vertical-align: middle;\n",
       "    }\n",
       "\n",
       "    .dataframe tbody tr th {\n",
       "        vertical-align: top;\n",
       "    }\n",
       "\n",
       "    .dataframe thead th {\n",
       "        text-align: right;\n",
       "    }\n",
       "</style>\n",
       "<table border=\"1\" class=\"dataframe\">\n",
       "  <thead>\n",
       "    <tr style=\"text-align: right;\">\n",
       "      <th></th>\n",
       "      <th>ANO</th>\n",
       "      <th>PRODUTO</th>\n",
       "      <th>UNIDADE</th>\n",
       "      <th>JAN</th>\n",
       "      <th>FEV</th>\n",
       "      <th>MAR</th>\n",
       "      <th>ABR</th>\n",
       "      <th>MAI</th>\n",
       "      <th>JUN</th>\n",
       "      <th>JUL</th>\n",
       "      <th>AGO</th>\n",
       "      <th>SET</th>\n",
       "      <th>OUT</th>\n",
       "      <th>NOV</th>\n",
       "      <th>DEZ</th>\n",
       "      <th>TOTAL</th>\n",
       "    </tr>\n",
       "  </thead>\n",
       "  <tbody>\n",
       "    <tr>\n",
       "      <th>0</th>\n",
       "      <td>2000</td>\n",
       "      <td>GASOLINA DE AVIAÇÃO</td>\n",
       "      <td>US$ FOB</td>\n",
       "      <td>881715</td>\n",
       "      <td>153032</td>\n",
       "      <td>510540.0</td>\n",
       "      <td>28731</td>\n",
       "      <td>0</td>\n",
       "      <td>1329492</td>\n",
       "      <td>398056</td>\n",
       "      <td>150616</td>\n",
       "      <td>1699734.0</td>\n",
       "      <td>1490425.0</td>\n",
       "      <td>405002</td>\n",
       "      <td>249817.0</td>\n",
       "      <td>7297160</td>\n",
       "    </tr>\n",
       "    <tr>\n",
       "      <th>1</th>\n",
       "      <td>2000</td>\n",
       "      <td>GASOLINA A</td>\n",
       "      <td>US$ FOB</td>\n",
       "      <td>17694662</td>\n",
       "      <td>272899</td>\n",
       "      <td>42384151.0</td>\n",
       "      <td>99029</td>\n",
       "      <td>27489316</td>\n",
       "      <td>15629763</td>\n",
       "      <td>35360967</td>\n",
       "      <td>71753834</td>\n",
       "      <td>49619966.0</td>\n",
       "      <td>40384444.0</td>\n",
       "      <td>20076542</td>\n",
       "      <td>77930515.0</td>\n",
       "      <td>398696088</td>\n",
       "    </tr>\n",
       "  </tbody>\n",
       "</table>\n",
       "</div>"
      ],
      "text/plain": [
       "    ANO              PRODUTO  UNIDADE       JAN     FEV         MAR    ABR  \\\n",
       "0  2000  GASOLINA DE AVIAÇÃO  US$ FOB    881715  153032    510540.0  28731   \n",
       "1  2000           GASOLINA A  US$ FOB  17694662  272899  42384151.0  99029   \n",
       "\n",
       "        MAI       JUN       JUL       AGO         SET         OUT       NOV  \\\n",
       "0         0   1329492    398056    150616   1699734.0   1490425.0    405002   \n",
       "1  27489316  15629763  35360967  71753834  49619966.0  40384444.0  20076542   \n",
       "\n",
       "          DEZ      TOTAL  \n",
       "0    249817.0    7297160  \n",
       "1  77930515.0  398696088  "
      ]
     },
     "execution_count": 13,
     "metadata": {},
     "output_type": "execute_result"
    }
   ],
   "source": [
    "rec_deriv.head(2)"
   ]
  },
  {
   "cell_type": "markdown",
   "metadata": {},
   "source": [
    "### Here is a function to clean and shift these dataframes (incomes and expenses). They have to be shifted by one month because in march people have only the data till february, for example. Stocks are due current past incomes and expenses."
   ]
  },
  {
   "cell_type": "code",
   "execution_count": 14,
   "metadata": {},
   "outputs": [],
   "source": [
    "def clean_derivatives(dataset, final_column, columns_to_drop=None):\n",
    "\n",
    "    '''\n",
    "        This function gets the wide dataframe of import and export of ethanol and other derivatives\n",
    "        and returns it in a long way so it can bet concatenated in the final dataframe to input \n",
    "        in a model.\n",
    "        \n",
    "        dataset -> the dataset needed to be clean\n",
    "        final_column -> the name of the final column, ie the name of the product (ethanol, gasoline, etc.)\n",
    "        columns_to_drop -> useless columns to be dropped\n",
    "    \n",
    "    '''    \n",
    "    \n",
    "    values = {}\n",
    "    \n",
    "    dataset = dataset.query('ANO >= 2016 and ANO <= 2020')\n",
    "    \n",
    "    dataset = dataset.drop(columns_to_drop, axis=1)\n",
    "    \n",
    "    dataset = dataset.set_index('ANO')\n",
    "    \n",
    "    dataset.columns = [i+1 for i in range(len(dataset.columns))]\n",
    "    \n",
    "    for i in dataset.index:\n",
    "        \n",
    "        for j in dataset.columns:\n",
    "            \n",
    "            for k in range(1, 29):\n",
    "                \n",
    "                values[str(k) + '/' + str(j) + '/' + str(i)] = (dataset.at[i, j])\n",
    "                \n",
    "    df = pd.DataFrame(index=values.keys(), data=values.values(), columns=final_column)\n",
    "    \n",
    "    df.index = pd.to_datetime(df.index, format='%d/%m/%Y')\n",
    "\n",
    "    # The first shift only carry the data to the end of the month, the second shift makes it get in the\n",
    "    # beginning of the next month.\n",
    "    return df\n",
    "\n",
    "def shift_exc(dataset):\n",
    "    '''\n",
    "    This function shifts the index by exactly one month\n",
    "    Something we can't do easily with .shift() or .tshift()\n",
    "    in pandas.\n",
    "    \n",
    "    dataset -> The dataset you want to shift the index\n",
    "    '''\n",
    "    new_idx = list(dataset.index)\n",
    "    \n",
    "    for i in range(len(new_idx)):\n",
    "        new_idx[i] = new_idx[i] + relativedelta(months=1)\n",
    "    \n",
    "    dataset = dataset.reset_index()\n",
    "    \n",
    "    dataset['index'] = new_idx\n",
    "    \n",
    "    dataset.set_index('index', inplace=True)\n",
    "    \n",
    "    dataset.index.name = None\n",
    "    \n",
    "    return dataset"
   ]
  },
  {
   "cell_type": "code",
   "execution_count": 15,
   "metadata": {},
   "outputs": [],
   "source": [
    "rec_eth_hidr = clean_derivatives(rec_eth_hidr, ['hydr_eth_income'], \n",
    "                                 ['PRODUTO', 'UNIDADE', 'MOVIMENTO COMERCIAL', 'TOTAL'])\n",
    "\n",
    "rec_eth_anid = clean_derivatives(rec_eth_anid, ['anid_eth_income'], \n",
    "                                 ['PRODUTO', 'UNIDADE', 'MOVIMENTO COMERCIAL', 'TOTAL'])\n",
    "\n",
    "disp_eth_hidr = clean_derivatives(disp_eth_hidr, ['eth_hidr_exp'], \n",
    "                                 ['PRODUTO', 'UNIDADE', 'MOVIMENTO COMERCIAL', 'TOTAL'])\n",
    "\n",
    "disp_eth_anid = clean_derivatives(disp_eth_anid, ['eth_anid_exp'], \n",
    "                                 ['PRODUTO', 'UNIDADE', 'MOVIMENTO COMERCIAL', 'TOTAL'])\n",
    "\n",
    "disp_deriv = clean_derivatives(disp_deriv.query('PRODUTO == \"GASOLINA A\"'), \n",
    "                                    ['gasoline_exp'], ['PRODUTO', 'UNIDADE', 'TOTAL'])\n",
    "\n",
    "rec_deriv = clean_derivatives(rec_deriv.query('PRODUTO == \"GASOLINA A\"'), \n",
    "                                    ['gasoline_inc'], ['PRODUTO', 'UNIDADE', 'TOTAL'])"
   ]
  },
  {
   "cell_type": "code",
   "execution_count": 16,
   "metadata": {},
   "outputs": [],
   "source": [
    "rec_eth_hidr = shift_exc(rec_eth_hidr)\n",
    "\n",
    "rec_eth_anid = shift_exc(rec_eth_anid)\n",
    "\n",
    "disp_eth_hidr = shift_exc(disp_eth_hidr)\n",
    "\n",
    "disp_eth_anid = shift_exc(disp_eth_anid)\n",
    "\n",
    "disp_deriv = shift_exc(disp_deriv)\n",
    "\n",
    "rec_deriv = shift_exc(rec_deriv)"
   ]
  },
  {
   "cell_type": "code",
   "execution_count": 17,
   "metadata": {},
   "outputs": [],
   "source": [
    "# Merging all features\n",
    "\n",
    "exp_imp = pd.concat([rec_eth_hidr, \n",
    "                     rec_eth_anid, \n",
    "                     disp_eth_hidr, \n",
    "                     disp_eth_anid, \n",
    "                     disp_deriv, \n",
    "                     rec_deriv], axis=1)"
   ]
  },
  {
   "cell_type": "markdown",
   "metadata": {},
   "source": [
    "#### We've gotta transform the date of crude, ethanol and dollar to specific date in the other dataframes"
   ]
  },
  {
   "cell_type": "code",
   "execution_count": 18,
   "metadata": {},
   "outputs": [
    {
     "data": {
      "text/html": [
       "<div>\n",
       "<style scoped>\n",
       "    .dataframe tbody tr th:only-of-type {\n",
       "        vertical-align: middle;\n",
       "    }\n",
       "\n",
       "    .dataframe tbody tr th {\n",
       "        vertical-align: top;\n",
       "    }\n",
       "\n",
       "    .dataframe thead th {\n",
       "        text-align: right;\n",
       "    }\n",
       "</style>\n",
       "<table border=\"1\" class=\"dataframe\">\n",
       "  <thead>\n",
       "    <tr style=\"text-align: right;\">\n",
       "      <th></th>\n",
       "      <th>date</th>\n",
       "      <th>crude_price</th>\n",
       "    </tr>\n",
       "  </thead>\n",
       "  <tbody>\n",
       "    <tr>\n",
       "      <th>0</th>\n",
       "      <td>2020-12-31</td>\n",
       "      <td>48.52</td>\n",
       "    </tr>\n",
       "    <tr>\n",
       "      <th>1</th>\n",
       "      <td>2020-12-30</td>\n",
       "      <td>48.40</td>\n",
       "    </tr>\n",
       "  </tbody>\n",
       "</table>\n",
       "</div>"
      ],
      "text/plain": [
       "        date  crude_price\n",
       "0 2020-12-31        48.52\n",
       "1 2020-12-30        48.40"
      ]
     },
     "execution_count": 18,
     "metadata": {},
     "output_type": "execute_result"
    }
   ],
   "source": [
    "dollar = dollar[['Date', 'Price']].rename(columns={'Date': 'date', 'Price': 'usd_brl'})\n",
    "dollar.date = pd.to_datetime(dollar.date, format='%b %d, %Y')\n",
    "\n",
    "crude = crude[['Date', 'Price']].rename(columns={'Date': 'date', 'Price': 'crude_price'})\n",
    "crude.date = pd.to_datetime(crude.date, format='%b %d, %Y')\n",
    "\n",
    "ethanol = ethanol[['Date', 'Price']].rename(columns={'Date': 'date', 'Price': 'ethanol_price'})\n",
    "ethanol.date = pd.to_datetime(ethanol.date, format='%b %d, %Y')\n",
    "\n",
    "crude.head(2)"
   ]
  },
  {
   "cell_type": "markdown",
   "metadata": {},
   "source": [
    "### Plotting prices to see some inconsistency..."
   ]
  },
  {
   "cell_type": "code",
   "execution_count": 19,
   "metadata": {},
   "outputs": [],
   "source": [
    "def gen_lineplot(x, y, y_unit='Price US$'):\n",
    "\n",
    "    ax = plt.figure(figsize=(19,6))\n",
    "\n",
    "    plt.plot(x, y, linewidth=3);\n",
    "    plt.yticks(fontsize=14);\n",
    "    plt.xticks(fontsize=14);\n",
    "    plt.ylabel(y_unit, fontsize=14)\n",
    "    \n",
    "    plt.show()\n",
    "    plt.close()"
   ]
  },
  {
   "cell_type": "code",
   "execution_count": 20,
   "metadata": {},
   "outputs": [
    {
     "data": {
      "image/png": "[encoded data removed]",
      "text/plain": [
       "<Figure size 1368x432 with 1 Axes>"
      ]
     },
     "metadata": {
      "needs_background": "light"
     },
     "output_type": "display_data"
    }
   ],
   "source": [
    "gen_lineplot(crude.date, crude.crude_price)"
   ]
  },
  {
   "cell_type": "code",
   "execution_count": 21,
   "metadata": {},
   "outputs": [
    {
     "data": {
      "image/png": "[encoded data removed]",
      "text/plain": [
       "<Figure size 1368x432 with 1 Axes>"
      ]
     },
     "metadata": {
      "needs_background": "light"
     },
     "output_type": "display_data"
    }
   ],
   "source": [
    "gen_lineplot(dollar.date, dollar.usd_brl)"
   ]
  },
  {
   "cell_type": "code",
   "execution_count": 22,
   "metadata": {},
   "outputs": [
    {
     "data": {
      "image/png": "[encoded data removed]",
      "text/plain": [
       "<Figure size 1368x432 with 1 Axes>"
      ]
     },
     "metadata": {
      "needs_background": "light"
     },
     "output_type": "display_data"
    }
   ],
   "source": [
    "gen_lineplot(ethanol.date, ethanol.ethanol_price, y_unit='Price R$')"
   ]
  },
  {
   "cell_type": "markdown",
   "metadata": {},
   "source": [
    "### There's negative value in crude prices, so we should ignore that."
   ]
  },
  {
   "cell_type": "code",
   "execution_count": 23,
   "metadata": {},
   "outputs": [],
   "source": [
    "crude = crude[crude['crude_price'] > 0]"
   ]
  },
  {
   "cell_type": "markdown",
   "metadata": {},
   "source": [
    "### Variables statistics"
   ]
  },
  {
   "cell_type": "code",
   "execution_count": 24,
   "metadata": {},
   "outputs": [
    {
     "data": {
      "text/html": [
       "<div>\n",
       "<style scoped>\n",
       "    .dataframe tbody tr th:only-of-type {\n",
       "        vertical-align: middle;\n",
       "    }\n",
       "\n",
       "    .dataframe tbody tr th {\n",
       "        vertical-align: top;\n",
       "    }\n",
       "\n",
       "    .dataframe thead th {\n",
       "        text-align: right;\n",
       "    }\n",
       "</style>\n",
       "<table border=\"1\" class=\"dataframe\">\n",
       "  <thead>\n",
       "    <tr style=\"text-align: right;\">\n",
       "      <th></th>\n",
       "      <th>ethanol_price</th>\n",
       "    </tr>\n",
       "  </thead>\n",
       "  <tbody>\n",
       "    <tr>\n",
       "      <th>count</th>\n",
       "      <td>825.000000</td>\n",
       "    </tr>\n",
       "    <tr>\n",
       "      <th>mean</th>\n",
       "      <td>1722.990909</td>\n",
       "    </tr>\n",
       "    <tr>\n",
       "      <th>std</th>\n",
       "      <td>215.224256</td>\n",
       "    </tr>\n",
       "    <tr>\n",
       "      <th>min</th>\n",
       "      <td>1325.000000</td>\n",
       "    </tr>\n",
       "    <tr>\n",
       "      <th>25%</th>\n",
       "      <td>1550.000000</td>\n",
       "    </tr>\n",
       "    <tr>\n",
       "      <th>50%</th>\n",
       "      <td>1720.000000</td>\n",
       "    </tr>\n",
       "    <tr>\n",
       "      <th>75%</th>\n",
       "      <td>1880.000000</td>\n",
       "    </tr>\n",
       "    <tr>\n",
       "      <th>max</th>\n",
       "      <td>2235.000000</td>\n",
       "    </tr>\n",
       "  </tbody>\n",
       "</table>\n",
       "</div>"
      ],
      "text/plain": [
       "       ethanol_price\n",
       "count     825.000000\n",
       "mean     1722.990909\n",
       "std       215.224256\n",
       "min      1325.000000\n",
       "25%      1550.000000\n",
       "50%      1720.000000\n",
       "75%      1880.000000\n",
       "max      2235.000000"
      ]
     },
     "execution_count": 24,
     "metadata": {},
     "output_type": "execute_result"
    }
   ],
   "source": [
    "ethanol.describe()"
   ]
  },
  {
   "cell_type": "code",
   "execution_count": 25,
   "metadata": {},
   "outputs": [
    {
     "data": {
      "text/html": [
       "<div>\n",
       "<style scoped>\n",
       "    .dataframe tbody tr th:only-of-type {\n",
       "        vertical-align: middle;\n",
       "    }\n",
       "\n",
       "    .dataframe tbody tr th {\n",
       "        vertical-align: top;\n",
       "    }\n",
       "\n",
       "    .dataframe thead th {\n",
       "        text-align: right;\n",
       "    }\n",
       "</style>\n",
       "<table border=\"1\" class=\"dataframe\">\n",
       "  <thead>\n",
       "    <tr style=\"text-align: right;\">\n",
       "      <th></th>\n",
       "      <th>crude_price</th>\n",
       "    </tr>\n",
       "  </thead>\n",
       "  <tbody>\n",
       "    <tr>\n",
       "      <th>count</th>\n",
       "      <td>1054.000000</td>\n",
       "    </tr>\n",
       "    <tr>\n",
       "      <th>mean</th>\n",
       "      <td>53.181698</td>\n",
       "    </tr>\n",
       "    <tr>\n",
       "      <th>std</th>\n",
       "      <td>11.316696</td>\n",
       "    </tr>\n",
       "    <tr>\n",
       "      <th>min</th>\n",
       "      <td>10.010000</td>\n",
       "    </tr>\n",
       "    <tr>\n",
       "      <th>25%</th>\n",
       "      <td>47.185000</td>\n",
       "    </tr>\n",
       "    <tr>\n",
       "      <th>50%</th>\n",
       "      <td>53.770000</td>\n",
       "    </tr>\n",
       "    <tr>\n",
       "      <th>75%</th>\n",
       "      <td>61.097500</td>\n",
       "    </tr>\n",
       "    <tr>\n",
       "      <th>max</th>\n",
       "      <td>76.410000</td>\n",
       "    </tr>\n",
       "  </tbody>\n",
       "</table>\n",
       "</div>"
      ],
      "text/plain": [
       "       crude_price\n",
       "count  1054.000000\n",
       "mean     53.181698\n",
       "std      11.316696\n",
       "min      10.010000\n",
       "25%      47.185000\n",
       "50%      53.770000\n",
       "75%      61.097500\n",
       "max      76.410000"
      ]
     },
     "execution_count": 25,
     "metadata": {},
     "output_type": "execute_result"
    }
   ],
   "source": [
    "crude.describe()"
   ]
  },
  {
   "cell_type": "code",
   "execution_count": 26,
   "metadata": {},
   "outputs": [
    {
     "data": {
      "text/html": [
       "<div>\n",
       "<style scoped>\n",
       "    .dataframe tbody tr th:only-of-type {\n",
       "        vertical-align: middle;\n",
       "    }\n",
       "\n",
       "    .dataframe tbody tr th {\n",
       "        vertical-align: top;\n",
       "    }\n",
       "\n",
       "    .dataframe thead th {\n",
       "        text-align: right;\n",
       "    }\n",
       "</style>\n",
       "<table border=\"1\" class=\"dataframe\">\n",
       "  <thead>\n",
       "    <tr style=\"text-align: right;\">\n",
       "      <th></th>\n",
       "      <th>usd_brl</th>\n",
       "    </tr>\n",
       "  </thead>\n",
       "  <tbody>\n",
       "    <tr>\n",
       "      <th>count</th>\n",
       "      <td>1041.000000</td>\n",
       "    </tr>\n",
       "    <tr>\n",
       "      <th>mean</th>\n",
       "      <td>3.985214</td>\n",
       "    </tr>\n",
       "    <tr>\n",
       "      <th>std</th>\n",
       "      <td>0.780706</td>\n",
       "    </tr>\n",
       "    <tr>\n",
       "      <th>min</th>\n",
       "      <td>3.057500</td>\n",
       "    </tr>\n",
       "    <tr>\n",
       "      <th>25%</th>\n",
       "      <td>3.275000</td>\n",
       "    </tr>\n",
       "    <tr>\n",
       "      <th>50%</th>\n",
       "      <td>3.840500</td>\n",
       "    </tr>\n",
       "    <tr>\n",
       "      <th>75%</th>\n",
       "      <td>4.186000</td>\n",
       "    </tr>\n",
       "    <tr>\n",
       "      <th>max</th>\n",
       "      <td>5.887000</td>\n",
       "    </tr>\n",
       "  </tbody>\n",
       "</table>\n",
       "</div>"
      ],
      "text/plain": [
       "           usd_brl\n",
       "count  1041.000000\n",
       "mean      3.985214\n",
       "std       0.780706\n",
       "min       3.057500\n",
       "25%       3.275000\n",
       "50%       3.840500\n",
       "75%       4.186000\n",
       "max       5.887000"
      ]
     },
     "execution_count": 26,
     "metadata": {},
     "output_type": "execute_result"
    }
   ],
   "source": [
    "dollar.describe()"
   ]
  },
  {
   "cell_type": "markdown",
   "metadata": {},
   "source": [
    "### Concatenating all years with the target prices..."
   ]
  },
  {
   "cell_type": "code",
   "execution_count": 27,
   "metadata": {},
   "outputs": [],
   "source": [
    "df = pd.concat([df1, df2, df3, df4, df5, df6, df7, df8])"
   ]
  },
  {
   "cell_type": "code",
   "execution_count": 28,
   "metadata": {},
   "outputs": [],
   "source": [
    "# Function counting rest registers\n",
    "\n",
    "def rest_reg(df, act):\n",
    "    '''\n",
    "        Count and print the registers of a dataframe\n",
    "        df -> the dataframe you want to count registers\n",
    "        act -> teh characteristics of the dataframe\n",
    "    \n",
    "    '''\n",
    "    return print('{} registers in {}.' .format(len(df), act))"
   ]
  },
  {
   "cell_type": "code",
   "execution_count": 29,
   "metadata": {},
   "outputs": [
    {
     "name": "stdout",
     "output_type": "stream",
     "text": [
      "487651 registers in 2017 semester 1.\n",
      "300931 registers in 2017 semester 2.\n",
      "469801 registers in 2018 semester 1.\n",
      "492504 registers in 2018 semester 2.\n",
      "496226 registers in 2019 semester 1.\n",
      "507299 registers in 2019 semester 2.\n",
      "496663 registers in 2020 semester 1.\n",
      "222637 registers in 2020 semester 2.\n",
      "3473712 registers in total.\n"
     ]
    }
   ],
   "source": [
    "rest_reg(df1, '2017 semester 1')\n",
    "rest_reg(df2, '2017 semester 2')\n",
    "rest_reg(df3, '2018 semester 1')\n",
    "rest_reg(df4, '2018 semester 2')\n",
    "rest_reg(df5, '2019 semester 1')\n",
    "rest_reg(df6, '2019 semester 2')\n",
    "rest_reg(df7, '2020 semester 1')\n",
    "rest_reg(df8, '2020 semester 2')\n",
    "\n",
    "rest_reg(df, 'total')"
   ]
  },
  {
   "cell_type": "markdown",
   "metadata": {},
   "source": [
    "### Columns have not friendly names... "
   ]
  },
  {
   "cell_type": "code",
   "execution_count": 30,
   "metadata": {},
   "outputs": [
    {
     "name": "stdout",
     "output_type": "stream",
     "text": [
      "Index(['Região - Sigla', 'Estado - Sigla', 'Município', 'Revenda',\n",
      "       'CNPJ da Revenda', 'Produto', 'Data da Coleta', 'Valor de Venda',\n",
      "       'Valor de Compra', 'Unidade de Medida', 'Bandeira'],\n",
      "      dtype='object')\n",
      "11\n"
     ]
    }
   ],
   "source": [
    "print(df.columns)\n",
    "print(df.columns.shape[0])"
   ]
  },
  {
   "cell_type": "markdown",
   "metadata": {},
   "source": [
    "### Renaming the columns and translating to english..."
   ]
  },
  {
   "cell_type": "code",
   "execution_count": 31,
   "metadata": {},
   "outputs": [],
   "source": [
    "df.columns = ['region', 'state', 'city', \n",
    "               'shop', 'cnpj', 'product', \n",
    "               'date', 'price', 'buy_price', \n",
    "               'unit', 'flag']"
   ]
  },
  {
   "cell_type": "code",
   "execution_count": 32,
   "metadata": {},
   "outputs": [
    {
     "data": {
      "text/plain": [
       "0                     DIESEL\n",
       "11                    ETANOL\n",
       "22                  GASOLINA\n",
       "34                DIESEL S10\n",
       "21649                    GNV\n",
       "202628    GASOLINA ADITIVADA\n",
       "Name: product, dtype: object"
      ]
     },
     "execution_count": 32,
     "metadata": {},
     "output_type": "execute_result"
    }
   ],
   "source": [
    "# Looking the products type\n",
    "\n",
    "df['product'].drop_duplicates()"
   ]
  },
  {
   "cell_type": "markdown",
   "metadata": {},
   "source": [
    "### We're gonna take only gasoline prices."
   ]
  },
  {
   "cell_type": "code",
   "execution_count": 33,
   "metadata": {},
   "outputs": [
    {
     "name": "stdout",
     "output_type": "stream",
     "text": [
      "1052438 registers in gasoline dataframe in 2020 + 2019 + 2018 + 2017.\n"
     ]
    }
   ],
   "source": [
    "# Selecting only gasoline\n",
    "\n",
    "df = df.query('product == \"GASOLINA\"')\n",
    "rest_reg(df, 'gasoline dataframe in 2020 + 2019 + 2018 + 2017')"
   ]
  },
  {
   "cell_type": "code",
   "execution_count": 34,
   "metadata": {},
   "outputs": [
    {
     "data": {
      "image/png": "[encoded data removed]",
      "text/plain": [
       "<Figure size 1368x432 with 1 Axes>"
      ]
     },
     "metadata": {
      "needs_background": "light"
     },
     "output_type": "display_data"
    }
   ],
   "source": [
    "# Plotting registers per state\n",
    "\n",
    "df.state.value_counts().plot(kind='bar', figsize=(19, 6))\n",
    "plt.xticks(fontsize=14, rotation=0);\n",
    "plt.yticks(fontsize=15);"
   ]
  },
  {
   "cell_type": "markdown",
   "metadata": {},
   "source": [
    "### Taking only the top 3 of the states in the plot above..."
   ]
  },
  {
   "cell_type": "code",
   "execution_count": 35,
   "metadata": {},
   "outputs": [
    {
     "name": "stdout",
     "output_type": "stream",
     "text": [
      "479166 registers in gasoline dataframe in 2020 + 2019 + 2018 + 2017.\n"
     ]
    }
   ],
   "source": [
    "df_se = df[df['state'].isin(['RJ', 'SP', 'MG'])]\n",
    "rest_reg(df_se, 'gasoline dataframe in 2020 + 2019 + 2018 + 2017')"
   ]
  },
  {
   "cell_type": "code",
   "execution_count": 36,
   "metadata": {},
   "outputs": [
    {
     "data": {
      "text/html": [
       "<div>\n",
       "<style scoped>\n",
       "    .dataframe tbody tr th:only-of-type {\n",
       "        vertical-align: middle;\n",
       "    }\n",
       "\n",
       "    .dataframe tbody tr th {\n",
       "        vertical-align: top;\n",
       "    }\n",
       "\n",
       "    .dataframe thead th {\n",
       "        text-align: right;\n",
       "    }\n",
       "</style>\n",
       "<table border=\"1\" class=\"dataframe\">\n",
       "  <thead>\n",
       "    <tr style=\"text-align: right;\">\n",
       "      <th></th>\n",
       "      <th>region</th>\n",
       "      <th>state</th>\n",
       "      <th>city</th>\n",
       "      <th>shop</th>\n",
       "      <th>cnpj</th>\n",
       "      <th>product</th>\n",
       "      <th>date</th>\n",
       "      <th>price</th>\n",
       "      <th>buy_price</th>\n",
       "      <th>unit</th>\n",
       "      <th>flag</th>\n",
       "    </tr>\n",
       "  </thead>\n",
       "  <tbody>\n",
       "    <tr>\n",
       "      <th>257759</th>\n",
       "      <td>SE</td>\n",
       "      <td>MG</td>\n",
       "      <td>ALFENAS</td>\n",
       "      <td>ALFA RVM LTDA</td>\n",
       "      <td>3418121000146</td>\n",
       "      <td>GASOLINA</td>\n",
       "      <td>01/05/2017</td>\n",
       "      <td>3.899</td>\n",
       "      <td>NaN</td>\n",
       "      <td>R$ / litro</td>\n",
       "      <td>BRANCA</td>\n",
       "    </tr>\n",
       "    <tr>\n",
       "      <th>257760</th>\n",
       "      <td>SE</td>\n",
       "      <td>MG</td>\n",
       "      <td>ALFENAS</td>\n",
       "      <td>ALFA RVM LTDA</td>\n",
       "      <td>3418121000146</td>\n",
       "      <td>GASOLINA</td>\n",
       "      <td>03/01/2017</td>\n",
       "      <td>3.950</td>\n",
       "      <td>3.37</td>\n",
       "      <td>R$ / litro</td>\n",
       "      <td>BRANCA</td>\n",
       "    </tr>\n",
       "    <tr>\n",
       "      <th>257761</th>\n",
       "      <td>SE</td>\n",
       "      <td>MG</td>\n",
       "      <td>ALFENAS</td>\n",
       "      <td>ALFA RVM LTDA</td>\n",
       "      <td>3418121000146</td>\n",
       "      <td>GASOLINA</td>\n",
       "      <td>03/04/2017</td>\n",
       "      <td>3.899</td>\n",
       "      <td>NaN</td>\n",
       "      <td>R$ / litro</td>\n",
       "      <td>BRANCA</td>\n",
       "    </tr>\n",
       "    <tr>\n",
       "      <th>257762</th>\n",
       "      <td>SE</td>\n",
       "      <td>MG</td>\n",
       "      <td>ALFENAS</td>\n",
       "      <td>ALFA RVM LTDA</td>\n",
       "      <td>3418121000146</td>\n",
       "      <td>GASOLINA</td>\n",
       "      <td>05/06/2017</td>\n",
       "      <td>3.799</td>\n",
       "      <td>NaN</td>\n",
       "      <td>R$ / litro</td>\n",
       "      <td>BRANCA</td>\n",
       "    </tr>\n",
       "    <tr>\n",
       "      <th>257763</th>\n",
       "      <td>SE</td>\n",
       "      <td>MG</td>\n",
       "      <td>ALFENAS</td>\n",
       "      <td>ALFA RVM LTDA</td>\n",
       "      <td>3418121000146</td>\n",
       "      <td>GASOLINA</td>\n",
       "      <td>06/02/2017</td>\n",
       "      <td>3.999</td>\n",
       "      <td>NaN</td>\n",
       "      <td>R$ / litro</td>\n",
       "      <td>BRANCA</td>\n",
       "    </tr>\n",
       "  </tbody>\n",
       "</table>\n",
       "</div>"
      ],
      "text/plain": [
       "       region state     city           shop           cnpj   product  \\\n",
       "257759     SE    MG  ALFENAS  ALFA RVM LTDA  3418121000146  GASOLINA   \n",
       "257760     SE    MG  ALFENAS  ALFA RVM LTDA  3418121000146  GASOLINA   \n",
       "257761     SE    MG  ALFENAS  ALFA RVM LTDA  3418121000146  GASOLINA   \n",
       "257762     SE    MG  ALFENAS  ALFA RVM LTDA  3418121000146  GASOLINA   \n",
       "257763     SE    MG  ALFENAS  ALFA RVM LTDA  3418121000146  GASOLINA   \n",
       "\n",
       "              date  price  buy_price        unit    flag  \n",
       "257759  01/05/2017  3.899        NaN  R$ / litro  BRANCA  \n",
       "257760  03/01/2017  3.950       3.37  R$ / litro  BRANCA  \n",
       "257761  03/04/2017  3.899        NaN  R$ / litro  BRANCA  \n",
       "257762  05/06/2017  3.799        NaN  R$ / litro  BRANCA  \n",
       "257763  06/02/2017  3.999        NaN  R$ / litro  BRANCA  "
      ]
     },
     "execution_count": 36,
     "metadata": {},
     "output_type": "execute_result"
    }
   ],
   "source": [
    "df_se.head()"
   ]
  },
  {
   "cell_type": "code",
   "execution_count": 37,
   "metadata": {},
   "outputs": [
    {
     "data": {
      "text/plain": [
       "region            0\n",
       "state             0\n",
       "city              0\n",
       "shop              0\n",
       "cnpj              0\n",
       "product           0\n",
       "date              0\n",
       "price             0\n",
       "buy_price    262355\n",
       "unit              0\n",
       "flag              0\n",
       "dtype: int64"
      ]
     },
     "execution_count": 37,
     "metadata": {},
     "output_type": "execute_result"
    }
   ],
   "source": [
    "# Counting NaN values\n",
    "\n",
    "df_se.isna().sum()"
   ]
  },
  {
   "cell_type": "markdown",
   "metadata": {},
   "source": [
    "### A lot of NaN values in buy_price. It seems people don't like to tell how much they paid in the product they sell."
   ]
  },
  {
   "cell_type": "code",
   "execution_count": 38,
   "metadata": {},
   "outputs": [
    {
     "name": "stderr",
     "output_type": "stream",
     "text": [
      "/home/joaop/anaconda3/lib/python3.7/site-packages/pandas/core/frame.py:3997: SettingWithCopyWarning: \n",
      "A value is trying to be set on a copy of a slice from a DataFrame\n",
      "\n",
      "See the caveats in the documentation: https://pandas.pydata.org/pandas-docs/stable/user_guide/indexing.html#returning-a-view-versus-a-copy\n",
      "  errors=errors,\n"
     ]
    }
   ],
   "source": [
    "# Droping columns we don't need including the buy_price with a lot of NaN values\n",
    "\n",
    "df_se.drop(['buy_price', 'unit'], axis=1, inplace=True)"
   ]
  },
  {
   "cell_type": "code",
   "execution_count": 39,
   "metadata": {},
   "outputs": [
    {
     "name": "stderr",
     "output_type": "stream",
     "text": [
      "/home/joaop/anaconda3/lib/python3.7/site-packages/pandas/core/generic.py:5303: SettingWithCopyWarning: \n",
      "A value is trying to be set on a copy of a slice from a DataFrame.\n",
      "Try using .loc[row_indexer,col_indexer] = value instead\n",
      "\n",
      "See the caveats in the documentation: https://pandas.pydata.org/pandas-docs/stable/user_guide/indexing.html#returning-a-view-versus-a-copy\n",
      "  self[name] = value\n"
     ]
    }
   ],
   "source": [
    "# Setting date column to datetime\n",
    "\n",
    "df_se.date = pd.to_datetime(df_se.date, format='%d/%m/%Y')"
   ]
  },
  {
   "cell_type": "code",
   "execution_count": 40,
   "metadata": {},
   "outputs": [
    {
     "data": {
      "text/html": [
       "<div>\n",
       "<style scoped>\n",
       "    .dataframe tbody tr th:only-of-type {\n",
       "        vertical-align: middle;\n",
       "    }\n",
       "\n",
       "    .dataframe tbody tr th {\n",
       "        vertical-align: top;\n",
       "    }\n",
       "\n",
       "    .dataframe thead th {\n",
       "        text-align: right;\n",
       "    }\n",
       "</style>\n",
       "<table border=\"1\" class=\"dataframe\">\n",
       "  <thead>\n",
       "    <tr style=\"text-align: right;\">\n",
       "      <th></th>\n",
       "      <th>region</th>\n",
       "      <th>state</th>\n",
       "      <th>city</th>\n",
       "      <th>shop</th>\n",
       "      <th>cnpj</th>\n",
       "      <th>product</th>\n",
       "      <th>date</th>\n",
       "      <th>price</th>\n",
       "      <th>flag</th>\n",
       "    </tr>\n",
       "  </thead>\n",
       "  <tbody>\n",
       "    <tr>\n",
       "      <th>257759</th>\n",
       "      <td>SE</td>\n",
       "      <td>MG</td>\n",
       "      <td>ALFENAS</td>\n",
       "      <td>ALFA RVM LTDA</td>\n",
       "      <td>3418121000146</td>\n",
       "      <td>GASOLINA</td>\n",
       "      <td>2017-05-01</td>\n",
       "      <td>3.899</td>\n",
       "      <td>BRANCA</td>\n",
       "    </tr>\n",
       "    <tr>\n",
       "      <th>257760</th>\n",
       "      <td>SE</td>\n",
       "      <td>MG</td>\n",
       "      <td>ALFENAS</td>\n",
       "      <td>ALFA RVM LTDA</td>\n",
       "      <td>3418121000146</td>\n",
       "      <td>GASOLINA</td>\n",
       "      <td>2017-01-03</td>\n",
       "      <td>3.950</td>\n",
       "      <td>BRANCA</td>\n",
       "    </tr>\n",
       "    <tr>\n",
       "      <th>257761</th>\n",
       "      <td>SE</td>\n",
       "      <td>MG</td>\n",
       "      <td>ALFENAS</td>\n",
       "      <td>ALFA RVM LTDA</td>\n",
       "      <td>3418121000146</td>\n",
       "      <td>GASOLINA</td>\n",
       "      <td>2017-04-03</td>\n",
       "      <td>3.899</td>\n",
       "      <td>BRANCA</td>\n",
       "    </tr>\n",
       "    <tr>\n",
       "      <th>257762</th>\n",
       "      <td>SE</td>\n",
       "      <td>MG</td>\n",
       "      <td>ALFENAS</td>\n",
       "      <td>ALFA RVM LTDA</td>\n",
       "      <td>3418121000146</td>\n",
       "      <td>GASOLINA</td>\n",
       "      <td>2017-06-05</td>\n",
       "      <td>3.799</td>\n",
       "      <td>BRANCA</td>\n",
       "    </tr>\n",
       "    <tr>\n",
       "      <th>257763</th>\n",
       "      <td>SE</td>\n",
       "      <td>MG</td>\n",
       "      <td>ALFENAS</td>\n",
       "      <td>ALFA RVM LTDA</td>\n",
       "      <td>3418121000146</td>\n",
       "      <td>GASOLINA</td>\n",
       "      <td>2017-02-06</td>\n",
       "      <td>3.999</td>\n",
       "      <td>BRANCA</td>\n",
       "    </tr>\n",
       "  </tbody>\n",
       "</table>\n",
       "</div>"
      ],
      "text/plain": [
       "       region state     city           shop           cnpj   product  \\\n",
       "257759     SE    MG  ALFENAS  ALFA RVM LTDA  3418121000146  GASOLINA   \n",
       "257760     SE    MG  ALFENAS  ALFA RVM LTDA  3418121000146  GASOLINA   \n",
       "257761     SE    MG  ALFENAS  ALFA RVM LTDA  3418121000146  GASOLINA   \n",
       "257762     SE    MG  ALFENAS  ALFA RVM LTDA  3418121000146  GASOLINA   \n",
       "257763     SE    MG  ALFENAS  ALFA RVM LTDA  3418121000146  GASOLINA   \n",
       "\n",
       "             date  price    flag  \n",
       "257759 2017-05-01  3.899  BRANCA  \n",
       "257760 2017-01-03  3.950  BRANCA  \n",
       "257761 2017-04-03  3.899  BRANCA  \n",
       "257762 2017-06-05  3.799  BRANCA  \n",
       "257763 2017-02-06  3.999  BRANCA  "
      ]
     },
     "execution_count": 40,
     "metadata": {},
     "output_type": "execute_result"
    }
   ],
   "source": [
    "df_se.head()"
   ]
  },
  {
   "cell_type": "code",
   "execution_count": 41,
   "metadata": {},
   "outputs": [
    {
     "data": {
      "image/png": "[encoded data removed]",
      "text/plain": [
       "<Figure size 1368x432 with 1 Axes>"
      ]
     },
     "metadata": {
      "needs_background": "light"
     },
     "output_type": "display_data"
    }
   ],
   "source": [
    "df_se.flag.value_counts().head(10).plot(kind='bar', figsize=(19,6))\n",
    "plt.xticks(fontsize=14);"
   ]
  },
  {
   "cell_type": "markdown",
   "metadata": {},
   "source": [
    "### I'm gonna consider only the top five flags, from \"Branca\" to \"Ipiranga\"."
   ]
  },
  {
   "cell_type": "code",
   "execution_count": 42,
   "metadata": {
    "scrolled": false
   },
   "outputs": [],
   "source": [
    "top_four = df_se.flag.value_counts().head(4).index"
   ]
  },
  {
   "cell_type": "code",
   "execution_count": 43,
   "metadata": {},
   "outputs": [
    {
     "name": "stdout",
     "output_type": "stream",
     "text": [
      "456990 registers in top five flags in 2020 + 2019 + 2018 + 2017.\n"
     ]
    }
   ],
   "source": [
    "df_se = df_se.query('flag in @top_four')\n",
    "rest_reg(df_se, 'top five flags in 2020 + 2019 + 2018 + 2017')"
   ]
  },
  {
   "cell_type": "code",
   "execution_count": 44,
   "metadata": {},
   "outputs": [
    {
     "data": {
      "image/png": "[encoded data removed]",
      "text/plain": [
       "<Figure size 1368x432 with 1 Axes>"
      ]
     },
     "metadata": {
      "needs_background": "light"
     },
     "output_type": "display_data"
    }
   ],
   "source": [
    "gen_lineplot(x = df_se.groupby('date').agg({'price': 'mean'}).index, \n",
    "             y = df_se.groupby('date').agg({'price': 'mean'}).values, y_unit='R$/liter')"
   ]
  },
  {
   "cell_type": "markdown",
   "metadata": {},
   "source": [
    "### Notes:\n",
    "\n",
    " ####   - They didn't collect prices from september to half of october in 2020.\n",
    " ####   - Prices fell sharply during the beginning of pandemic."
   ]
  },
  {
   "cell_type": "markdown",
   "metadata": {},
   "source": [
    "### Merging gas prices in Brazil with USD/BRL and Crude WTI prices and Ethanol prices"
   ]
  },
  {
   "cell_type": "code",
   "execution_count": 45,
   "metadata": {},
   "outputs": [
    {
     "data": {
      "text/html": [
       "<div>\n",
       "<style scoped>\n",
       "    .dataframe tbody tr th:only-of-type {\n",
       "        vertical-align: middle;\n",
       "    }\n",
       "\n",
       "    .dataframe tbody tr th {\n",
       "        vertical-align: top;\n",
       "    }\n",
       "\n",
       "    .dataframe thead th {\n",
       "        text-align: right;\n",
       "    }\n",
       "</style>\n",
       "<table border=\"1\" class=\"dataframe\">\n",
       "  <thead>\n",
       "    <tr style=\"text-align: right;\">\n",
       "      <th></th>\n",
       "      <th>date</th>\n",
       "      <th>hydr_eth_income</th>\n",
       "      <th>anid_eth_income</th>\n",
       "      <th>eth_hidr_exp</th>\n",
       "      <th>eth_anid_exp</th>\n",
       "      <th>gasoline_exp</th>\n",
       "      <th>gasoline_inc</th>\n",
       "    </tr>\n",
       "  </thead>\n",
       "  <tbody>\n",
       "    <tr>\n",
       "      <th>0</th>\n",
       "      <td>2016-02-01</td>\n",
       "      <td>32986682.0</td>\n",
       "      <td>22874350.0</td>\n",
       "      <td>9583.0</td>\n",
       "      <td>13572525.0</td>\n",
       "      <td>262</td>\n",
       "      <td>2426245.0</td>\n",
       "    </tr>\n",
       "    <tr>\n",
       "      <th>1</th>\n",
       "      <td>2016-02-02</td>\n",
       "      <td>32986682.0</td>\n",
       "      <td>22874350.0</td>\n",
       "      <td>9583.0</td>\n",
       "      <td>13572525.0</td>\n",
       "      <td>262</td>\n",
       "      <td>2426245.0</td>\n",
       "    </tr>\n",
       "    <tr>\n",
       "      <th>2</th>\n",
       "      <td>2016-02-03</td>\n",
       "      <td>32986682.0</td>\n",
       "      <td>22874350.0</td>\n",
       "      <td>9583.0</td>\n",
       "      <td>13572525.0</td>\n",
       "      <td>262</td>\n",
       "      <td>2426245.0</td>\n",
       "    </tr>\n",
       "    <tr>\n",
       "      <th>3</th>\n",
       "      <td>2016-02-04</td>\n",
       "      <td>32986682.0</td>\n",
       "      <td>22874350.0</td>\n",
       "      <td>9583.0</td>\n",
       "      <td>13572525.0</td>\n",
       "      <td>262</td>\n",
       "      <td>2426245.0</td>\n",
       "    </tr>\n",
       "    <tr>\n",
       "      <th>4</th>\n",
       "      <td>2016-02-05</td>\n",
       "      <td>32986682.0</td>\n",
       "      <td>22874350.0</td>\n",
       "      <td>9583.0</td>\n",
       "      <td>13572525.0</td>\n",
       "      <td>262</td>\n",
       "      <td>2426245.0</td>\n",
       "    </tr>\n",
       "  </tbody>\n",
       "</table>\n",
       "</div>"
      ],
      "text/plain": [
       "        date  hydr_eth_income  anid_eth_income  eth_hidr_exp  eth_anid_exp  \\\n",
       "0 2016-02-01       32986682.0       22874350.0        9583.0    13572525.0   \n",
       "1 2016-02-02       32986682.0       22874350.0        9583.0    13572525.0   \n",
       "2 2016-02-03       32986682.0       22874350.0        9583.0    13572525.0   \n",
       "3 2016-02-04       32986682.0       22874350.0        9583.0    13572525.0   \n",
       "4 2016-02-05       32986682.0       22874350.0        9583.0    13572525.0   \n",
       "\n",
       "  gasoline_exp  gasoline_inc  \n",
       "0          262     2426245.0  \n",
       "1          262     2426245.0  \n",
       "2          262     2426245.0  \n",
       "3          262     2426245.0  \n",
       "4          262     2426245.0  "
      ]
     },
     "execution_count": 45,
     "metadata": {},
     "output_type": "execute_result"
    }
   ],
   "source": [
    "exp_imp = exp_imp.reset_index().rename(columns={'index': 'date'})\n",
    "exp_imp.head()"
   ]
  },
  {
   "cell_type": "code",
   "execution_count": 46,
   "metadata": {},
   "outputs": [
    {
     "data": {
      "text/html": [
       "<div>\n",
       "<style scoped>\n",
       "    .dataframe tbody tr th:only-of-type {\n",
       "        vertical-align: middle;\n",
       "    }\n",
       "\n",
       "    .dataframe tbody tr th {\n",
       "        vertical-align: top;\n",
       "    }\n",
       "\n",
       "    .dataframe thead th {\n",
       "        text-align: right;\n",
       "    }\n",
       "</style>\n",
       "<table border=\"1\" class=\"dataframe\">\n",
       "  <thead>\n",
       "    <tr style=\"text-align: right;\">\n",
       "      <th></th>\n",
       "      <th>region</th>\n",
       "      <th>state</th>\n",
       "      <th>city</th>\n",
       "      <th>shop</th>\n",
       "      <th>cnpj</th>\n",
       "      <th>product</th>\n",
       "      <th>date</th>\n",
       "      <th>price</th>\n",
       "      <th>flag</th>\n",
       "      <th>crude_price</th>\n",
       "      <th>usd_brl</th>\n",
       "      <th>ethanol_price</th>\n",
       "      <th>hydr_eth_income</th>\n",
       "      <th>anid_eth_income</th>\n",
       "      <th>eth_hidr_exp</th>\n",
       "      <th>eth_anid_exp</th>\n",
       "      <th>gasoline_exp</th>\n",
       "      <th>gasoline_inc</th>\n",
       "    </tr>\n",
       "  </thead>\n",
       "  <tbody>\n",
       "    <tr>\n",
       "      <th>0</th>\n",
       "      <td>SE</td>\n",
       "      <td>MG</td>\n",
       "      <td>ALFENAS</td>\n",
       "      <td>ALFA RVM LTDA</td>\n",
       "      <td>3418121000146</td>\n",
       "      <td>GASOLINA</td>\n",
       "      <td>2017-05-01</td>\n",
       "      <td>3.899</td>\n",
       "      <td>BRANCA</td>\n",
       "      <td>48.84</td>\n",
       "      <td>3.1765</td>\n",
       "      <td>NaN</td>\n",
       "      <td>1794395.0</td>\n",
       "      <td>74131983.0</td>\n",
       "      <td>21568.0</td>\n",
       "      <td>55073312.0</td>\n",
       "      <td>159032884</td>\n",
       "      <td>4712751.0</td>\n",
       "    </tr>\n",
       "    <tr>\n",
       "      <th>1</th>\n",
       "      <td>SE</td>\n",
       "      <td>MG</td>\n",
       "      <td>ALFENAS</td>\n",
       "      <td>ALFA RVM LTDA</td>\n",
       "      <td>3418121000146</td>\n",
       "      <td>GASOLINA</td>\n",
       "      <td>2017-01-03</td>\n",
       "      <td>3.950</td>\n",
       "      <td>BRANCA</td>\n",
       "      <td>52.33</td>\n",
       "      <td>3.2652</td>\n",
       "      <td>1930.0</td>\n",
       "      <td>14908410.0</td>\n",
       "      <td>9898344.0</td>\n",
       "      <td>5348.0</td>\n",
       "      <td>69137941.0</td>\n",
       "      <td>8.86635e+07</td>\n",
       "      <td>16000995.0</td>\n",
       "    </tr>\n",
       "    <tr>\n",
       "      <th>2</th>\n",
       "      <td>SE</td>\n",
       "      <td>MG</td>\n",
       "      <td>ALFENAS</td>\n",
       "      <td>ALFA RVM LTDA</td>\n",
       "      <td>3418121000146</td>\n",
       "      <td>GASOLINA</td>\n",
       "      <td>2017-04-03</td>\n",
       "      <td>3.899</td>\n",
       "      <td>BRANCA</td>\n",
       "      <td>50.24</td>\n",
       "      <td>3.1147</td>\n",
       "      <td>1480.0</td>\n",
       "      <td>6416214.0</td>\n",
       "      <td>28119407.0</td>\n",
       "      <td>35752.0</td>\n",
       "      <td>148753592.0</td>\n",
       "      <td>2.01064e+08</td>\n",
       "      <td>14046910.0</td>\n",
       "    </tr>\n",
       "    <tr>\n",
       "      <th>3</th>\n",
       "      <td>SE</td>\n",
       "      <td>MG</td>\n",
       "      <td>ALFENAS</td>\n",
       "      <td>ALFA RVM LTDA</td>\n",
       "      <td>3418121000146</td>\n",
       "      <td>GASOLINA</td>\n",
       "      <td>2017-06-05</td>\n",
       "      <td>3.799</td>\n",
       "      <td>BRANCA</td>\n",
       "      <td>47.40</td>\n",
       "      <td>3.2969</td>\n",
       "      <td>1390.0</td>\n",
       "      <td>15224933.0</td>\n",
       "      <td>31270677.0</td>\n",
       "      <td>15596.0</td>\n",
       "      <td>123301519.0</td>\n",
       "      <td>112776335</td>\n",
       "      <td>2511466.0</td>\n",
       "    </tr>\n",
       "    <tr>\n",
       "      <th>4</th>\n",
       "      <td>SE</td>\n",
       "      <td>MG</td>\n",
       "      <td>ALFENAS</td>\n",
       "      <td>ALFA RVM LTDA</td>\n",
       "      <td>3418121000146</td>\n",
       "      <td>GASOLINA</td>\n",
       "      <td>2017-02-06</td>\n",
       "      <td>3.999</td>\n",
       "      <td>BRANCA</td>\n",
       "      <td>53.01</td>\n",
       "      <td>3.1160</td>\n",
       "      <td>1740.0</td>\n",
       "      <td>2167833.0</td>\n",
       "      <td>69372810.0</td>\n",
       "      <td>31680.0</td>\n",
       "      <td>85920169.0</td>\n",
       "      <td>115274214</td>\n",
       "      <td>25701417.0</td>\n",
       "    </tr>\n",
       "  </tbody>\n",
       "</table>\n",
       "</div>"
      ],
      "text/plain": [
       "  region state     city           shop           cnpj   product       date  \\\n",
       "0     SE    MG  ALFENAS  ALFA RVM LTDA  3418121000146  GASOLINA 2017-05-01   \n",
       "1     SE    MG  ALFENAS  ALFA RVM LTDA  3418121000146  GASOLINA 2017-01-03   \n",
       "2     SE    MG  ALFENAS  ALFA RVM LTDA  3418121000146  GASOLINA 2017-04-03   \n",
       "3     SE    MG  ALFENAS  ALFA RVM LTDA  3418121000146  GASOLINA 2017-06-05   \n",
       "4     SE    MG  ALFENAS  ALFA RVM LTDA  3418121000146  GASOLINA 2017-02-06   \n",
       "\n",
       "   price    flag  crude_price  usd_brl  ethanol_price  hydr_eth_income  \\\n",
       "0  3.899  BRANCA        48.84   3.1765            NaN        1794395.0   \n",
       "1  3.950  BRANCA        52.33   3.2652         1930.0       14908410.0   \n",
       "2  3.899  BRANCA        50.24   3.1147         1480.0        6416214.0   \n",
       "3  3.799  BRANCA        47.40   3.2969         1390.0       15224933.0   \n",
       "4  3.999  BRANCA        53.01   3.1160         1740.0        2167833.0   \n",
       "\n",
       "   anid_eth_income  eth_hidr_exp  eth_anid_exp gasoline_exp  gasoline_inc  \n",
       "0       74131983.0       21568.0    55073312.0    159032884     4712751.0  \n",
       "1        9898344.0        5348.0    69137941.0  8.86635e+07    16000995.0  \n",
       "2       28119407.0       35752.0   148753592.0  2.01064e+08    14046910.0  \n",
       "3       31270677.0       15596.0   123301519.0    112776335     2511466.0  \n",
       "4       69372810.0       31680.0    85920169.0    115274214    25701417.0  "
      ]
     },
     "execution_count": 46,
     "metadata": {},
     "output_type": "execute_result"
    }
   ],
   "source": [
    "df_se = df_se.merge(crude, how='left', on='date')\n",
    "\n",
    "df_se = df_se.merge(dollar, how='left', on='date')\n",
    "\n",
    "df_se = df_se.merge(ethanol, how='left', on='date')\n",
    "\n",
    "df_se = df_se.merge(exp_imp, how='left', on='date')\n",
    "\n",
    "df_se.head()"
   ]
  },
  {
   "cell_type": "code",
   "execution_count": 47,
   "metadata": {},
   "outputs": [
    {
     "data": {
      "text/plain": [
       "region                 0\n",
       "state                  0\n",
       "city                   0\n",
       "shop                   0\n",
       "cnpj                   0\n",
       "product                0\n",
       "date                   0\n",
       "price                  0\n",
       "flag                   0\n",
       "crude_price         1274\n",
       "usd_brl              484\n",
       "ethanol_price      90380\n",
       "hydr_eth_income    35430\n",
       "anid_eth_income    35430\n",
       "eth_hidr_exp       35430\n",
       "eth_anid_exp       35430\n",
       "gasoline_exp       35430\n",
       "gasoline_inc       35430\n",
       "dtype: int64"
      ]
     },
     "execution_count": 47,
     "metadata": {},
     "output_type": "execute_result"
    }
   ],
   "source": [
    "df_se.isna().sum()"
   ]
  },
  {
   "cell_type": "markdown",
   "metadata": {},
   "source": [
    "    There are a lot of NaN values in crude_price and usd_brl.\n",
    "    That's because we don't have trading floor working in weekends.\n",
    "    \n",
    "    And there are much more NaN values in ethanol prices because including lack of trading floors in the US market, we should also consider brazilian holidays. (And it looks a lot of gas prices have been collected on holidays).\n",
    "    \n",
    "    Therefore we should forward fill all NaN values, because in Saturday and Sunday, the price of crude and dollar can be considered the same as friday. The same happens in brazilian holidays.\n",
    "    \n",
    "    The same will be done to the derivatives income and expenses because they were filled only till the day 28 to avoid errors in february."
   ]
  },
  {
   "cell_type": "code",
   "execution_count": 48,
   "metadata": {},
   "outputs": [],
   "source": [
    "df_se = df_se.sort_values(by='date')\n",
    "df_se.ffill(inplace=True)"
   ]
  },
  {
   "cell_type": "code",
   "execution_count": 49,
   "metadata": {},
   "outputs": [
    {
     "data": {
      "text/plain": [
       "region             0\n",
       "state              0\n",
       "city               0\n",
       "shop               0\n",
       "cnpj               0\n",
       "product            0\n",
       "date               0\n",
       "price              0\n",
       "flag               0\n",
       "crude_price        0\n",
       "usd_brl            0\n",
       "ethanol_price      0\n",
       "hydr_eth_income    0\n",
       "anid_eth_income    0\n",
       "eth_hidr_exp       0\n",
       "eth_anid_exp       0\n",
       "gasoline_exp       0\n",
       "gasoline_inc       0\n",
       "dtype: int64"
      ]
     },
     "execution_count": 49,
     "metadata": {},
     "output_type": "execute_result"
    }
   ],
   "source": [
    "df_se.isna().sum()"
   ]
  },
  {
   "cell_type": "markdown",
   "metadata": {},
   "source": [
    "### Now we have the dataframe complete, we should turn some categoric variables into dummies.\n",
    "\n",
    "    - Flags (the \"brand\" of the gas station).\n",
    "    - City."
   ]
  },
  {
   "cell_type": "code",
   "execution_count": 50,
   "metadata": {},
   "outputs": [
    {
     "data": {
      "text/html": [
       "<div>\n",
       "<style scoped>\n",
       "    .dataframe tbody tr th:only-of-type {\n",
       "        vertical-align: middle;\n",
       "    }\n",
       "\n",
       "    .dataframe tbody tr th {\n",
       "        vertical-align: top;\n",
       "    }\n",
       "\n",
       "    .dataframe thead th {\n",
       "        text-align: right;\n",
       "    }\n",
       "</style>\n",
       "<table border=\"1\" class=\"dataframe\">\n",
       "  <thead>\n",
       "    <tr style=\"text-align: right;\">\n",
       "      <th></th>\n",
       "      <th>region</th>\n",
       "      <th>state</th>\n",
       "      <th>city</th>\n",
       "      <th>shop</th>\n",
       "      <th>cnpj</th>\n",
       "      <th>product</th>\n",
       "      <th>date</th>\n",
       "      <th>price</th>\n",
       "      <th>flag</th>\n",
       "      <th>crude_price</th>\n",
       "      <th>usd_brl</th>\n",
       "      <th>ethanol_price</th>\n",
       "      <th>hydr_eth_income</th>\n",
       "      <th>anid_eth_income</th>\n",
       "      <th>eth_hidr_exp</th>\n",
       "      <th>eth_anid_exp</th>\n",
       "      <th>gasoline_exp</th>\n",
       "      <th>gasoline_inc</th>\n",
       "    </tr>\n",
       "  </thead>\n",
       "  <tbody>\n",
       "    <tr>\n",
       "      <th>9495</th>\n",
       "      <td>SE</td>\n",
       "      <td>MG</td>\n",
       "      <td>POUSO ALEGRE</td>\n",
       "      <td>AUTO POSTO PETROALEGRE LTDA</td>\n",
       "      <td>3887385000149</td>\n",
       "      <td>GASOLINA</td>\n",
       "      <td>2017-01-02</td>\n",
       "      <td>3.909</td>\n",
       "      <td>PETROBRAS DISTRIBUIDORA S.A.</td>\n",
       "      <td>54.03</td>\n",
       "      <td>3.2857</td>\n",
       "      <td>1925.0</td>\n",
       "      <td>14908410.0</td>\n",
       "      <td>9898344.0</td>\n",
       "      <td>5348.0</td>\n",
       "      <td>69137941.0</td>\n",
       "      <td>8.86635e+07</td>\n",
       "      <td>16000995.0</td>\n",
       "    </tr>\n",
       "    <tr>\n",
       "      <th>25311</th>\n",
       "      <td>SE</td>\n",
       "      <td>SP</td>\n",
       "      <td>ARARAQUARA</td>\n",
       "      <td>AUTO POSTO ARARAQUARA LTDA</td>\n",
       "      <td>43949742000170</td>\n",
       "      <td>GASOLINA</td>\n",
       "      <td>2017-01-02</td>\n",
       "      <td>3.530</td>\n",
       "      <td>BRANCA</td>\n",
       "      <td>54.03</td>\n",
       "      <td>3.2857</td>\n",
       "      <td>1925.0</td>\n",
       "      <td>14908410.0</td>\n",
       "      <td>9898344.0</td>\n",
       "      <td>5348.0</td>\n",
       "      <td>69137941.0</td>\n",
       "      <td>8.86635e+07</td>\n",
       "      <td>16000995.0</td>\n",
       "    </tr>\n",
       "  </tbody>\n",
       "</table>\n",
       "</div>"
      ],
      "text/plain": [
       "      region state          city                         shop            cnpj  \\\n",
       "9495      SE    MG  POUSO ALEGRE  AUTO POSTO PETROALEGRE LTDA   3887385000149   \n",
       "25311     SE    SP    ARARAQUARA   AUTO POSTO ARARAQUARA LTDA  43949742000170   \n",
       "\n",
       "        product       date  price                          flag  crude_price  \\\n",
       "9495   GASOLINA 2017-01-02  3.909  PETROBRAS DISTRIBUIDORA S.A.        54.03   \n",
       "25311  GASOLINA 2017-01-02  3.530                        BRANCA        54.03   \n",
       "\n",
       "       usd_brl  ethanol_price  hydr_eth_income  anid_eth_income  eth_hidr_exp  \\\n",
       "9495    3.2857         1925.0       14908410.0        9898344.0        5348.0   \n",
       "25311   3.2857         1925.0       14908410.0        9898344.0        5348.0   \n",
       "\n",
       "       eth_anid_exp gasoline_exp  gasoline_inc  \n",
       "9495     69137941.0  8.86635e+07    16000995.0  \n",
       "25311    69137941.0  8.86635e+07    16000995.0  "
      ]
     },
     "execution_count": 50,
     "metadata": {},
     "output_type": "execute_result"
    }
   ],
   "source": [
    "df_se.head(2)"
   ]
  },
  {
   "cell_type": "code",
   "execution_count": 51,
   "metadata": {},
   "outputs": [],
   "source": [
    "# Turning product into dummies, to treat all categorical variables in our dataframe.\n",
    "\n",
    "\n",
    "df_final = df_se.copy()\n",
    "\n",
    "for col in ['flag', 'city']:\n",
    "\n",
    "    df_final = pd.concat([df_final, pd.get_dummies(df_final[col])], axis=1)\n",
    "    df_final.drop([col], axis=1, inplace=True)"
   ]
  },
  {
   "cell_type": "code",
   "execution_count": 52,
   "metadata": {},
   "outputs": [
    {
     "data": {
      "text/html": [
       "<div>\n",
       "<style scoped>\n",
       "    .dataframe tbody tr th:only-of-type {\n",
       "        vertical-align: middle;\n",
       "    }\n",
       "\n",
       "    .dataframe tbody tr th {\n",
       "        vertical-align: top;\n",
       "    }\n",
       "\n",
       "    .dataframe thead th {\n",
       "        text-align: right;\n",
       "    }\n",
       "</style>\n",
       "<table border=\"1\" class=\"dataframe\">\n",
       "  <thead>\n",
       "    <tr style=\"text-align: right;\">\n",
       "      <th></th>\n",
       "      <th>product</th>\n",
       "      <th>date</th>\n",
       "      <th>price</th>\n",
       "      <th>crude_price</th>\n",
       "      <th>usd_brl</th>\n",
       "      <th>ethanol_price</th>\n",
       "      <th>hydr_eth_income</th>\n",
       "      <th>anid_eth_income</th>\n",
       "      <th>eth_hidr_exp</th>\n",
       "      <th>eth_anid_exp</th>\n",
       "      <th>...</th>\n",
       "      <th>VALINHOS</th>\n",
       "      <th>VARGINHA</th>\n",
       "      <th>VARZEA PAULISTA</th>\n",
       "      <th>VASSOURAS</th>\n",
       "      <th>VESPASIANO</th>\n",
       "      <th>VICOSA</th>\n",
       "      <th>VINHEDO</th>\n",
       "      <th>VOLTA REDONDA</th>\n",
       "      <th>VOTORANTIM</th>\n",
       "      <th>VOTUPORANGA</th>\n",
       "    </tr>\n",
       "  </thead>\n",
       "  <tbody>\n",
       "    <tr>\n",
       "      <th>9495</th>\n",
       "      <td>GASOLINA</td>\n",
       "      <td>2017-01-02</td>\n",
       "      <td>3.909</td>\n",
       "      <td>54.03</td>\n",
       "      <td>3.2857</td>\n",
       "      <td>1925.0</td>\n",
       "      <td>14908410.0</td>\n",
       "      <td>9898344.0</td>\n",
       "      <td>5348.0</td>\n",
       "      <td>69137941.0</td>\n",
       "      <td>...</td>\n",
       "      <td>0</td>\n",
       "      <td>0</td>\n",
       "      <td>0</td>\n",
       "      <td>0</td>\n",
       "      <td>0</td>\n",
       "      <td>0</td>\n",
       "      <td>0</td>\n",
       "      <td>0</td>\n",
       "      <td>0</td>\n",
       "      <td>0</td>\n",
       "    </tr>\n",
       "    <tr>\n",
       "      <th>25311</th>\n",
       "      <td>GASOLINA</td>\n",
       "      <td>2017-01-02</td>\n",
       "      <td>3.530</td>\n",
       "      <td>54.03</td>\n",
       "      <td>3.2857</td>\n",
       "      <td>1925.0</td>\n",
       "      <td>14908410.0</td>\n",
       "      <td>9898344.0</td>\n",
       "      <td>5348.0</td>\n",
       "      <td>69137941.0</td>\n",
       "      <td>...</td>\n",
       "      <td>0</td>\n",
       "      <td>0</td>\n",
       "      <td>0</td>\n",
       "      <td>0</td>\n",
       "      <td>0</td>\n",
       "      <td>0</td>\n",
       "      <td>0</td>\n",
       "      <td>0</td>\n",
       "      <td>0</td>\n",
       "      <td>0</td>\n",
       "    </tr>\n",
       "    <tr>\n",
       "      <th>6098</th>\n",
       "      <td>GASOLINA</td>\n",
       "      <td>2017-01-02</td>\n",
       "      <td>3.990</td>\n",
       "      <td>54.03</td>\n",
       "      <td>3.2857</td>\n",
       "      <td>1925.0</td>\n",
       "      <td>14908410.0</td>\n",
       "      <td>9898344.0</td>\n",
       "      <td>5348.0</td>\n",
       "      <td>69137941.0</td>\n",
       "      <td>...</td>\n",
       "      <td>0</td>\n",
       "      <td>0</td>\n",
       "      <td>0</td>\n",
       "      <td>0</td>\n",
       "      <td>0</td>\n",
       "      <td>0</td>\n",
       "      <td>0</td>\n",
       "      <td>0</td>\n",
       "      <td>0</td>\n",
       "      <td>0</td>\n",
       "    </tr>\n",
       "    <tr>\n",
       "      <th>22864</th>\n",
       "      <td>GASOLINA</td>\n",
       "      <td>2017-01-02</td>\n",
       "      <td>4.150</td>\n",
       "      <td>54.03</td>\n",
       "      <td>3.2857</td>\n",
       "      <td>1925.0</td>\n",
       "      <td>14908410.0</td>\n",
       "      <td>9898344.0</td>\n",
       "      <td>5348.0</td>\n",
       "      <td>69137941.0</td>\n",
       "      <td>...</td>\n",
       "      <td>0</td>\n",
       "      <td>0</td>\n",
       "      <td>0</td>\n",
       "      <td>0</td>\n",
       "      <td>0</td>\n",
       "      <td>0</td>\n",
       "      <td>0</td>\n",
       "      <td>0</td>\n",
       "      <td>0</td>\n",
       "      <td>0</td>\n",
       "    </tr>\n",
       "    <tr>\n",
       "      <th>9606</th>\n",
       "      <td>GASOLINA</td>\n",
       "      <td>2017-01-02</td>\n",
       "      <td>3.780</td>\n",
       "      <td>54.03</td>\n",
       "      <td>3.2857</td>\n",
       "      <td>1925.0</td>\n",
       "      <td>14908410.0</td>\n",
       "      <td>9898344.0</td>\n",
       "      <td>5348.0</td>\n",
       "      <td>69137941.0</td>\n",
       "      <td>...</td>\n",
       "      <td>0</td>\n",
       "      <td>0</td>\n",
       "      <td>0</td>\n",
       "      <td>0</td>\n",
       "      <td>0</td>\n",
       "      <td>0</td>\n",
       "      <td>0</td>\n",
       "      <td>0</td>\n",
       "      <td>0</td>\n",
       "      <td>0</td>\n",
       "    </tr>\n",
       "  </tbody>\n",
       "</table>\n",
       "<p>5 rows × 229 columns</p>\n",
       "</div>"
      ],
      "text/plain": [
       "        product       date  price  crude_price  usd_brl  ethanol_price  \\\n",
       "9495   GASOLINA 2017-01-02  3.909        54.03   3.2857         1925.0   \n",
       "25311  GASOLINA 2017-01-02  3.530        54.03   3.2857         1925.0   \n",
       "6098   GASOLINA 2017-01-02  3.990        54.03   3.2857         1925.0   \n",
       "22864  GASOLINA 2017-01-02  4.150        54.03   3.2857         1925.0   \n",
       "9606   GASOLINA 2017-01-02  3.780        54.03   3.2857         1925.0   \n",
       "\n",
       "       hydr_eth_income  anid_eth_income  eth_hidr_exp  eth_anid_exp  ...  \\\n",
       "9495        14908410.0        9898344.0        5348.0    69137941.0  ...   \n",
       "25311       14908410.0        9898344.0        5348.0    69137941.0  ...   \n",
       "6098        14908410.0        9898344.0        5348.0    69137941.0  ...   \n",
       "22864       14908410.0        9898344.0        5348.0    69137941.0  ...   \n",
       "9606        14908410.0        9898344.0        5348.0    69137941.0  ...   \n",
       "\n",
       "      VALINHOS  VARGINHA  VARZEA PAULISTA  VASSOURAS  VESPASIANO  VICOSA  \\\n",
       "9495         0         0                0          0           0       0   \n",
       "25311        0         0                0          0           0       0   \n",
       "6098         0         0                0          0           0       0   \n",
       "22864        0         0                0          0           0       0   \n",
       "9606         0         0                0          0           0       0   \n",
       "\n",
       "       VINHEDO  VOLTA REDONDA  VOTORANTIM  VOTUPORANGA  \n",
       "9495         0              0           0            0  \n",
       "25311        0              0           0            0  \n",
       "6098         0              0           0            0  \n",
       "22864        0              0           0            0  \n",
       "9606         0              0           0            0  \n",
       "\n",
       "[5 rows x 229 columns]"
      ]
     },
     "execution_count": 52,
     "metadata": {},
     "output_type": "execute_result"
    }
   ],
   "source": [
    "df_final = df_final[df_final.columns[4:]]\n",
    "df_final.head()"
   ]
  },
  {
   "cell_type": "code",
   "execution_count": 53,
   "metadata": {},
   "outputs": [
    {
     "data": {
      "text/html": [
       "<div>\n",
       "<style scoped>\n",
       "    .dataframe tbody tr th:only-of-type {\n",
       "        vertical-align: middle;\n",
       "    }\n",
       "\n",
       "    .dataframe tbody tr th {\n",
       "        vertical-align: top;\n",
       "    }\n",
       "\n",
       "    .dataframe thead th {\n",
       "        text-align: right;\n",
       "    }\n",
       "</style>\n",
       "<table border=\"1\" class=\"dataframe\">\n",
       "  <thead>\n",
       "    <tr style=\"text-align: right;\">\n",
       "      <th></th>\n",
       "      <th>price</th>\n",
       "      <th>crude_price</th>\n",
       "      <th>usd_brl</th>\n",
       "      <th>ethanol_price</th>\n",
       "      <th>hydr_eth_income</th>\n",
       "      <th>anid_eth_income</th>\n",
       "      <th>eth_hidr_exp</th>\n",
       "      <th>eth_anid_exp</th>\n",
       "      <th>gasoline_exp</th>\n",
       "      <th>gasoline_inc</th>\n",
       "      <th>...</th>\n",
       "      <th>VINHEDO</th>\n",
       "      <th>VOLTA REDONDA</th>\n",
       "      <th>VOTORANTIM</th>\n",
       "      <th>VOTUPORANGA</th>\n",
       "      <th>year</th>\n",
       "      <th>month</th>\n",
       "      <th>day</th>\n",
       "      <th>week</th>\n",
       "      <th>weekday</th>\n",
       "      <th>week_in_year</th>\n",
       "    </tr>\n",
       "  </thead>\n",
       "  <tbody>\n",
       "    <tr>\n",
       "      <th>9495</th>\n",
       "      <td>3.909</td>\n",
       "      <td>54.03</td>\n",
       "      <td>3.2857</td>\n",
       "      <td>1925.0</td>\n",
       "      <td>14908410.0</td>\n",
       "      <td>9898344.0</td>\n",
       "      <td>5348.0</td>\n",
       "      <td>69137941.0</td>\n",
       "      <td>8.86635e+07</td>\n",
       "      <td>16000995.0</td>\n",
       "      <td>...</td>\n",
       "      <td>0</td>\n",
       "      <td>0</td>\n",
       "      <td>0</td>\n",
       "      <td>0</td>\n",
       "      <td>2017</td>\n",
       "      <td>1</td>\n",
       "      <td>2</td>\n",
       "      <td>1</td>\n",
       "      <td>0</td>\n",
       "      <td>1</td>\n",
       "    </tr>\n",
       "    <tr>\n",
       "      <th>25311</th>\n",
       "      <td>3.530</td>\n",
       "      <td>54.03</td>\n",
       "      <td>3.2857</td>\n",
       "      <td>1925.0</td>\n",
       "      <td>14908410.0</td>\n",
       "      <td>9898344.0</td>\n",
       "      <td>5348.0</td>\n",
       "      <td>69137941.0</td>\n",
       "      <td>8.86635e+07</td>\n",
       "      <td>16000995.0</td>\n",
       "      <td>...</td>\n",
       "      <td>0</td>\n",
       "      <td>0</td>\n",
       "      <td>0</td>\n",
       "      <td>0</td>\n",
       "      <td>2017</td>\n",
       "      <td>1</td>\n",
       "      <td>2</td>\n",
       "      <td>1</td>\n",
       "      <td>0</td>\n",
       "      <td>1</td>\n",
       "    </tr>\n",
       "    <tr>\n",
       "      <th>6098</th>\n",
       "      <td>3.990</td>\n",
       "      <td>54.03</td>\n",
       "      <td>3.2857</td>\n",
       "      <td>1925.0</td>\n",
       "      <td>14908410.0</td>\n",
       "      <td>9898344.0</td>\n",
       "      <td>5348.0</td>\n",
       "      <td>69137941.0</td>\n",
       "      <td>8.86635e+07</td>\n",
       "      <td>16000995.0</td>\n",
       "      <td>...</td>\n",
       "      <td>0</td>\n",
       "      <td>0</td>\n",
       "      <td>0</td>\n",
       "      <td>0</td>\n",
       "      <td>2017</td>\n",
       "      <td>1</td>\n",
       "      <td>2</td>\n",
       "      <td>1</td>\n",
       "      <td>0</td>\n",
       "      <td>1</td>\n",
       "    </tr>\n",
       "    <tr>\n",
       "      <th>22864</th>\n",
       "      <td>4.150</td>\n",
       "      <td>54.03</td>\n",
       "      <td>3.2857</td>\n",
       "      <td>1925.0</td>\n",
       "      <td>14908410.0</td>\n",
       "      <td>9898344.0</td>\n",
       "      <td>5348.0</td>\n",
       "      <td>69137941.0</td>\n",
       "      <td>8.86635e+07</td>\n",
       "      <td>16000995.0</td>\n",
       "      <td>...</td>\n",
       "      <td>0</td>\n",
       "      <td>0</td>\n",
       "      <td>0</td>\n",
       "      <td>0</td>\n",
       "      <td>2017</td>\n",
       "      <td>1</td>\n",
       "      <td>2</td>\n",
       "      <td>1</td>\n",
       "      <td>0</td>\n",
       "      <td>1</td>\n",
       "    </tr>\n",
       "    <tr>\n",
       "      <th>9606</th>\n",
       "      <td>3.780</td>\n",
       "      <td>54.03</td>\n",
       "      <td>3.2857</td>\n",
       "      <td>1925.0</td>\n",
       "      <td>14908410.0</td>\n",
       "      <td>9898344.0</td>\n",
       "      <td>5348.0</td>\n",
       "      <td>69137941.0</td>\n",
       "      <td>8.86635e+07</td>\n",
       "      <td>16000995.0</td>\n",
       "      <td>...</td>\n",
       "      <td>0</td>\n",
       "      <td>0</td>\n",
       "      <td>0</td>\n",
       "      <td>0</td>\n",
       "      <td>2017</td>\n",
       "      <td>1</td>\n",
       "      <td>2</td>\n",
       "      <td>1</td>\n",
       "      <td>0</td>\n",
       "      <td>1</td>\n",
       "    </tr>\n",
       "  </tbody>\n",
       "</table>\n",
       "<p>5 rows × 233 columns</p>\n",
       "</div>"
      ],
      "text/plain": [
       "       price  crude_price  usd_brl  ethanol_price  hydr_eth_income  \\\n",
       "9495   3.909        54.03   3.2857         1925.0       14908410.0   \n",
       "25311  3.530        54.03   3.2857         1925.0       14908410.0   \n",
       "6098   3.990        54.03   3.2857         1925.0       14908410.0   \n",
       "22864  4.150        54.03   3.2857         1925.0       14908410.0   \n",
       "9606   3.780        54.03   3.2857         1925.0       14908410.0   \n",
       "\n",
       "       anid_eth_income  eth_hidr_exp  eth_anid_exp gasoline_exp  gasoline_inc  \\\n",
       "9495         9898344.0        5348.0    69137941.0  8.86635e+07    16000995.0   \n",
       "25311        9898344.0        5348.0    69137941.0  8.86635e+07    16000995.0   \n",
       "6098         9898344.0        5348.0    69137941.0  8.86635e+07    16000995.0   \n",
       "22864        9898344.0        5348.0    69137941.0  8.86635e+07    16000995.0   \n",
       "9606         9898344.0        5348.0    69137941.0  8.86635e+07    16000995.0   \n",
       "\n",
       "       ...  VINHEDO  VOLTA REDONDA  VOTORANTIM  VOTUPORANGA  year  month  day  \\\n",
       "9495   ...        0              0           0            0  2017      1    2   \n",
       "25311  ...        0              0           0            0  2017      1    2   \n",
       "6098   ...        0              0           0            0  2017      1    2   \n",
       "22864  ...        0              0           0            0  2017      1    2   \n",
       "9606   ...        0              0           0            0  2017      1    2   \n",
       "\n",
       "       week  weekday  week_in_year  \n",
       "9495      1        0             1  \n",
       "25311     1        0             1  \n",
       "6098      1        0             1  \n",
       "22864     1        0             1  \n",
       "9606      1        0             1  \n",
       "\n",
       "[5 rows x 233 columns]"
      ]
     },
     "execution_count": 53,
     "metadata": {},
     "output_type": "execute_result"
    }
   ],
   "source": [
    "# Splitting the date into year, month and day variables.\n",
    "# Adding day of week, weekday and also week in the year.\n",
    "\n",
    "df_final['year'] = df_final['date'].dt.year\n",
    "df_final['month'] = df_final['date'].dt.month\n",
    "df_final['day'] = df_final['date'].dt.day\n",
    "df_final['week'] = df_final['date'].dt.week\n",
    "df_final['weekday'] = df_final['date'].dt.weekday\n",
    "\n",
    "df_final['week_in_year'] = 0\n",
    "\n",
    "for i in df_final.index:\n",
    "    df_final.at[i, 'week_in_year'] = df_final.at[i, 'date'].isocalendar()[1]\n",
    "\n",
    "# Product in this version is only gasoline, so we should drop it.\n",
    "df_final.drop(['date', 'product'], axis=1, inplace=True)\n",
    "\n",
    "df_final.head()"
   ]
  },
  {
   "cell_type": "markdown",
   "metadata": {},
   "source": [
    "### Inserting the dataset in a model..."
   ]
  },
  {
   "cell_type": "code",
   "execution_count": 54,
   "metadata": {},
   "outputs": [],
   "source": [
    "X = df_final[df_final.columns[1:]].values\n",
    "y = df_final['price'].values"
   ]
  },
  {
   "cell_type": "code",
   "execution_count": 55,
   "metadata": {},
   "outputs": [],
   "source": [
    "X_train, X_test, y_train, y_test = train_test_split(X, y, test_size=0.25, random_state=42)"
   ]
  },
  {
   "cell_type": "code",
   "execution_count": 56,
   "metadata": {},
   "outputs": [],
   "source": [
    "rf = RandomForestRegressor(criterion='mse')"
   ]
  },
  {
   "cell_type": "code",
   "execution_count": 57,
   "metadata": {},
   "outputs": [
    {
     "name": "stdout",
     "output_type": "stream",
     "text": [
      "CPU times: user 30min 28s, sys: 428 ms, total: 30min 28s\n",
      "Wall time: 30min 28s\n"
     ]
    }
   ],
   "source": [
    "%%time\n",
    "\n",
    "rf.fit(X_train,y_train)"
   ]
  },
  {
   "cell_type": "code",
   "execution_count": 70,
   "metadata": {},
   "outputs": [],
   "source": [
    "y_pred_train = rf.predict(X_train)\n",
    "\n",
    "y_pred_test = rf.predict(X_test)"
   ]
  },
  {
   "cell_type": "code",
   "execution_count": 71,
   "metadata": {},
   "outputs": [
    {
     "name": "stdout",
     "output_type": "stream",
     "text": [
      "Train RMSE: R$ 0.10\n",
      "Test RMSE: R$ 0.13\n"
     ]
    }
   ],
   "source": [
    "rmse_test = mean_squared_error(y_test, y_pred_test, squared=False)\n",
    "rmse_train = mean_squared_error(y_train, y_pred_train, squared=False)\n",
    "\n",
    "print('Train RMSE: R$ {:.2f}'.format(rmse_train))\n",
    "print('Test RMSE: R$ {:.2f}'.format(rmse_test))"
   ]
  },
  {
   "cell_type": "code",
   "execution_count": 59,
   "metadata": {},
   "outputs": [],
   "source": [
    "from sklearn.model_selection import GridSearchCV"
   ]
  },
  {
   "cell_type": "code",
   "execution_count": 62,
   "metadata": {},
   "outputs": [],
   "source": [
    "params = {'n_estimators': [60, 80, 120], \n",
    "          'max_depth': [40, 50, 60]}"
   ]
  },
  {
   "cell_type": "code",
   "execution_count": 63,
   "metadata": {
    "scrolled": false
   },
   "outputs": [
    {
     "name": "stdout",
     "output_type": "stream",
     "text": [
      "Fitting 3 folds for each of 9 candidates, totalling 27 fits\n",
      "[CV] max_depth=40, n_estimators=60 ...................................\n"
     ]
    },
    {
     "name": "stderr",
     "output_type": "stream",
     "text": [
      "[Parallel(n_jobs=1)]: Using backend SequentialBackend with 1 concurrent workers.\n"
     ]
    },
    {
     "name": "stdout",
     "output_type": "stream",
     "text": [
      "[CV]  max_depth=40, n_estimators=60, score=(train=0.831, test=0.805), total= 6.8min\n",
      "[CV] max_depth=40, n_estimators=60 ...................................\n"
     ]
    },
    {
     "name": "stderr",
     "output_type": "stream",
     "text": [
      "[Parallel(n_jobs=1)]: Done   1 out of   1 | elapsed:  6.8min remaining:    0.0s\n"
     ]
    },
    {
     "name": "stdout",
     "output_type": "stream",
     "text": [
      "[CV]  max_depth=40, n_estimators=60, score=(train=0.830, test=0.803), total= 4.6min\n",
      "[CV] max_depth=40, n_estimators=60 ...................................\n"
     ]
    },
    {
     "name": "stderr",
     "output_type": "stream",
     "text": [
      "[Parallel(n_jobs=1)]: Done   2 out of   2 | elapsed: 11.4min remaining:    0.0s\n"
     ]
    },
    {
     "name": "stdout",
     "output_type": "stream",
     "text": [
      "[CV]  max_depth=40, n_estimators=60, score=(train=0.827, test=0.801), total= 4.8min\n",
      "[CV] max_depth=40, n_estimators=80 ...................................\n",
      "[CV]  max_depth=40, n_estimators=80, score=(train=0.831, test=0.805), total= 6.1min\n",
      "[CV] max_depth=40, n_estimators=80 ...................................\n",
      "[CV]  max_depth=40, n_estimators=80, score=(train=0.830, test=0.802), total= 6.1min\n",
      "[CV] max_depth=40, n_estimators=80 ...................................\n",
      "[CV]  max_depth=40, n_estimators=80, score=(train=0.829, test=0.803), total= 6.3min\n",
      "[CV] max_depth=40, n_estimators=120 ..................................\n",
      "[CV]  max_depth=40, n_estimators=120, score=(train=0.831, test=0.804), total= 9.5min\n",
      "[CV] max_depth=40, n_estimators=120 ..................................\n",
      "[CV]  max_depth=40, n_estimators=120, score=(train=0.831, test=0.803), total= 9.6min\n",
      "[CV] max_depth=40, n_estimators=120 ..................................\n",
      "[CV]  max_depth=40, n_estimators=120, score=(train=0.828, test=0.802), total= 9.9min\n",
      "[CV] max_depth=50, n_estimators=60 ...................................\n",
      "[CV]  max_depth=50, n_estimators=60, score=(train=0.868, test=0.838), total= 5.1min\n",
      "[CV] max_depth=50, n_estimators=60 ...................................\n",
      "[CV]  max_depth=50, n_estimators=60, score=(train=0.867, test=0.836), total= 5.1min\n",
      "[CV] max_depth=50, n_estimators=60 ...................................\n",
      "[CV]  max_depth=50, n_estimators=60, score=(train=0.865, test=0.835), total= 5.3min\n",
      "[CV] max_depth=50, n_estimators=80 ...................................\n",
      "[CV]  max_depth=50, n_estimators=80, score=(train=0.869, test=0.838), total= 6.8min\n",
      "[CV] max_depth=50, n_estimators=80 ...................................\n",
      "[CV]  max_depth=50, n_estimators=80, score=(train=0.868, test=0.837), total= 6.8min\n",
      "[CV] max_depth=50, n_estimators=80 ...................................\n",
      "[CV]  max_depth=50, n_estimators=80, score=(train=0.866, test=0.836), total= 7.0min\n",
      "[CV] max_depth=50, n_estimators=120 ..................................\n",
      "[CV]  max_depth=50, n_estimators=120, score=(train=0.868, test=0.839), total=10.6min\n",
      "[CV] max_depth=50, n_estimators=120 ..................................\n",
      "[CV]  max_depth=50, n_estimators=120, score=(train=0.867, test=0.836), total=10.6min\n",
      "[CV] max_depth=50, n_estimators=120 ..................................\n",
      "[CV]  max_depth=50, n_estimators=120, score=(train=0.866, test=0.836), total=10.6min\n",
      "[CV] max_depth=60, n_estimators=60 ...................................\n",
      "[CV]  max_depth=60, n_estimators=60, score=(train=0.896, test=0.863), total= 5.7min\n",
      "[CV] max_depth=60, n_estimators=60 ...................................\n",
      "[CV]  max_depth=60, n_estimators=60, score=(train=0.895, test=0.861), total= 5.6min\n",
      "[CV] max_depth=60, n_estimators=60 ...................................\n",
      "[CV]  max_depth=60, n_estimators=60, score=(train=0.894, test=0.861), total= 5.8min\n",
      "[CV] max_depth=60, n_estimators=80 ...................................\n",
      "[CV]  max_depth=60, n_estimators=80, score=(train=0.896, test=0.863), total= 7.4min\n",
      "[CV] max_depth=60, n_estimators=80 ...................................\n",
      "[CV]  max_depth=60, n_estimators=80, score=(train=0.894, test=0.861), total= 7.3min\n",
      "[CV] max_depth=60, n_estimators=80 ...................................\n",
      "[CV]  max_depth=60, n_estimators=80, score=(train=0.894, test=0.862), total= 7.5min\n",
      "[CV] max_depth=60, n_estimators=120 ..................................\n",
      "[CV]  max_depth=60, n_estimators=120, score=(train=0.896, test=0.864), total=11.1min\n",
      "[CV] max_depth=60, n_estimators=120 ..................................\n",
      "[CV]  max_depth=60, n_estimators=120, score=(train=0.895, test=0.862), total=11.0min\n",
      "[CV] max_depth=60, n_estimators=120 ..................................\n",
      "[CV]  max_depth=60, n_estimators=120, score=(train=0.894, test=0.862), total=11.4min\n"
     ]
    },
    {
     "name": "stderr",
     "output_type": "stream",
     "text": [
      "[Parallel(n_jobs=1)]: Done  27 out of  27 | elapsed: 206.5min finished\n"
     ]
    },
    {
     "name": "stdout",
     "output_type": "stream",
     "text": [
      "CPU times: user 3h 44min 43s, sys: 7.56 s, total: 3h 44min 51s\n",
      "Wall time: 3h 44min 52s\n"
     ]
    },
    {
     "data": {
      "text/plain": [
       "GridSearchCV(cv=3, estimator=RandomForestRegressor(), n_jobs=1,\n",
       "             param_grid={'max_depth': [40, 50, 60],\n",
       "                         'n_estimators': [60, 80, 120]},\n",
       "             return_train_score=True, verbose=3)"
      ]
     },
     "execution_count": 63,
     "metadata": {},
     "output_type": "execute_result"
    }
   ],
   "source": [
    "%%time\n",
    "grid = GridSearchCV(rf,\n",
    "                    param_grid=params,\n",
    "                    n_jobs=1,\n",
    "                    cv=3,\n",
    "                    verbose=3,\n",
    "                    return_train_score = True)\n",
    "\n",
    "grid.fit(X_train, y_train)"
   ]
  },
  {
   "cell_type": "code",
   "execution_count": 64,
   "metadata": {},
   "outputs": [
    {
     "data": {
      "text/plain": [
       "{'max_depth': 60, 'n_estimators': 120}"
      ]
     },
     "execution_count": 64,
     "metadata": {},
     "output_type": "execute_result"
    }
   ],
   "source": [
    "grid.best_params_"
   ]
  },
  {
   "cell_type": "code",
   "execution_count": 72,
   "metadata": {},
   "outputs": [],
   "source": [
    "y_pred_test_grid = grid.predict(X_test)\n",
    "y_pred_train_grid = grid.predict(X_train)"
   ]
  },
  {
   "cell_type": "code",
   "execution_count": 74,
   "metadata": {},
   "outputs": [
    {
     "name": "stdout",
     "output_type": "stream",
     "text": [
      "Train RMSE: R$ 0.15\n",
      "Test RMSE: R$ 0.17\n"
     ]
    }
   ],
   "source": [
    "rmse_grid_test = mean_squared_error(y_test, y_pred_test_grid, squared=False)\n",
    "rmse_grid_train = mean_squared_error(y_train, y_pred_train_grid, squared=False)\n",
    "\n",
    "print('Train RMSE: R$ {:.2f}'.format(rmse_grid_train))\n",
    "print('Test RMSE: R$ {:.2f}'.format(rmse_grid_test))"
   ]
  },
  {
   "cell_type": "markdown",
   "metadata": {},
   "source": [
    "# Version 2 of this work is going to test other models and other categorical variables."
   ]
  }
 ],
 "metadata": {
  "kernelspec": {
   "display_name": "Python 3",
   "language": "python",
   "name": "python3"
  },
  "language_info": {
   "codemirror_mode": {
    "name": "ipython",
    "version": 3
   },
   "file_extension": ".py",
   "mimetype": "text/x-python",
   "name": "python",
   "nbconvert_exporter": "python",
   "pygments_lexer": "ipython3",
   "version": "3.7.7"
  }
 },
 "nbformat": 4,
 "nbformat_minor": 4
}
